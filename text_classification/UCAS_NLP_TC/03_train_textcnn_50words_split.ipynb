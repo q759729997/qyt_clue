{
  "nbformat": 4,
  "nbformat_minor": 0,
  "metadata": {
    "colab": {
      "name": "03_train_textcnn_50words_split.ipynb",
      "provenance": [],
      "collapsed_sections": []
    },
    "kernelspec": {
      "name": "python3",
      "display_name": "Python 3"
    },
    "accelerator": "GPU",
    "widgets": {
      "application/vnd.jupyter.widget-state+json": {
        "8333c5de2a8f4617b77f1b920adf9092": {
          "model_module": "@jupyter-widgets/controls",
          "model_name": "HBoxModel",
          "state": {
            "_view_name": "HBoxView",
            "_dom_classes": [],
            "_model_name": "HBoxModel",
            "_view_module": "@jupyter-widgets/controls",
            "_model_module_version": "1.5.0",
            "_view_count": null,
            "_view_module_version": "1.5.0",
            "box_style": "",
            "layout": "IPY_MODEL_e643ceee88f44ec28cc2a8aba3d36cde",
            "_model_module": "@jupyter-widgets/controls",
            "children": [
              "IPY_MODEL_335b3b2babcb4e7cbbed841d9e18a749",
              "IPY_MODEL_e130d231f8734068a1f0ff43a76160bc"
            ]
          }
        },
        "e643ceee88f44ec28cc2a8aba3d36cde": {
          "model_module": "@jupyter-widgets/base",
          "model_name": "LayoutModel",
          "state": {
            "_view_name": "LayoutView",
            "grid_template_rows": null,
            "right": null,
            "justify_content": null,
            "_view_module": "@jupyter-widgets/base",
            "overflow": null,
            "_model_module_version": "1.2.0",
            "_view_count": null,
            "flex_flow": "row wrap",
            "width": "100%",
            "min_width": null,
            "border": null,
            "align_items": null,
            "bottom": null,
            "_model_module": "@jupyter-widgets/base",
            "top": null,
            "grid_column": null,
            "overflow_y": null,
            "overflow_x": null,
            "grid_auto_flow": null,
            "grid_area": null,
            "grid_template_columns": null,
            "flex": null,
            "_model_name": "LayoutModel",
            "justify_items": null,
            "grid_row": null,
            "max_height": null,
            "align_content": null,
            "visibility": null,
            "align_self": null,
            "height": null,
            "min_height": null,
            "padding": null,
            "grid_auto_rows": null,
            "grid_gap": null,
            "max_width": null,
            "order": null,
            "_view_module_version": "1.2.0",
            "grid_template_areas": null,
            "object_position": null,
            "object_fit": null,
            "grid_auto_columns": null,
            "margin": null,
            "display": "inline-flex",
            "left": null
          }
        },
        "335b3b2babcb4e7cbbed841d9e18a749": {
          "model_module": "@jupyter-widgets/controls",
          "model_name": "FloatProgressModel",
          "state": {
            "_view_name": "ProgressView",
            "style": "IPY_MODEL_f65d3aefd0564db9bacbe1a0d9562092",
            "_dom_classes": [],
            "description": "Epoch 13/200:   6%",
            "_model_name": "FloatProgressModel",
            "bar_style": "danger",
            "max": 251600,
            "_view_module": "@jupyter-widgets/controls",
            "_model_module_version": "1.5.0",
            "value": 16350,
            "_view_count": null,
            "_view_module_version": "1.5.0",
            "orientation": "horizontal",
            "min": 0,
            "description_tooltip": null,
            "_model_module": "@jupyter-widgets/controls",
            "layout": "IPY_MODEL_bfbdf449a78b418c8ab44ddb706410d3"
          }
        },
        "e130d231f8734068a1f0ff43a76160bc": {
          "model_module": "@jupyter-widgets/controls",
          "model_name": "HTMLModel",
          "state": {
            "_view_name": "HTMLView",
            "style": "IPY_MODEL_55054d1274794bf3a42987a1253c57a7",
            "_dom_classes": [],
            "description": "",
            "_model_name": "HTMLModel",
            "placeholder": "​",
            "_view_module": "@jupyter-widgets/controls",
            "_model_module_version": "1.5.0",
            "value": " 16350/251600 [02:17&lt;30:52, 127.00it/s, loss:0.03967]",
            "_view_count": null,
            "_view_module_version": "1.5.0",
            "description_tooltip": null,
            "_model_module": "@jupyter-widgets/controls",
            "layout": "IPY_MODEL_2947aeac95f648769cebff991485d573"
          }
        },
        "f65d3aefd0564db9bacbe1a0d9562092": {
          "model_module": "@jupyter-widgets/controls",
          "model_name": "ProgressStyleModel",
          "state": {
            "_view_name": "StyleView",
            "_model_name": "ProgressStyleModel",
            "description_width": "initial",
            "_view_module": "@jupyter-widgets/base",
            "_model_module_version": "1.5.0",
            "_view_count": null,
            "_view_module_version": "1.2.0",
            "bar_color": null,
            "_model_module": "@jupyter-widgets/controls"
          }
        },
        "bfbdf449a78b418c8ab44ddb706410d3": {
          "model_module": "@jupyter-widgets/base",
          "model_name": "LayoutModel",
          "state": {
            "_view_name": "LayoutView",
            "grid_template_rows": null,
            "right": null,
            "justify_content": null,
            "_view_module": "@jupyter-widgets/base",
            "overflow": null,
            "_model_module_version": "1.2.0",
            "_view_count": null,
            "flex_flow": null,
            "width": null,
            "min_width": null,
            "border": null,
            "align_items": null,
            "bottom": null,
            "_model_module": "@jupyter-widgets/base",
            "top": null,
            "grid_column": null,
            "overflow_y": null,
            "overflow_x": null,
            "grid_auto_flow": null,
            "grid_area": null,
            "grid_template_columns": null,
            "flex": "2",
            "_model_name": "LayoutModel",
            "justify_items": null,
            "grid_row": null,
            "max_height": null,
            "align_content": null,
            "visibility": null,
            "align_self": null,
            "height": null,
            "min_height": null,
            "padding": null,
            "grid_auto_rows": null,
            "grid_gap": null,
            "max_width": null,
            "order": null,
            "_view_module_version": "1.2.0",
            "grid_template_areas": null,
            "object_position": null,
            "object_fit": null,
            "grid_auto_columns": null,
            "margin": null,
            "display": null,
            "left": null
          }
        },
        "55054d1274794bf3a42987a1253c57a7": {
          "model_module": "@jupyter-widgets/controls",
          "model_name": "DescriptionStyleModel",
          "state": {
            "_view_name": "StyleView",
            "_model_name": "DescriptionStyleModel",
            "description_width": "",
            "_view_module": "@jupyter-widgets/base",
            "_model_module_version": "1.5.0",
            "_view_count": null,
            "_view_module_version": "1.2.0",
            "_model_module": "@jupyter-widgets/controls"
          }
        },
        "2947aeac95f648769cebff991485d573": {
          "model_module": "@jupyter-widgets/base",
          "model_name": "LayoutModel",
          "state": {
            "_view_name": "LayoutView",
            "grid_template_rows": null,
            "right": null,
            "justify_content": null,
            "_view_module": "@jupyter-widgets/base",
            "overflow": null,
            "_model_module_version": "1.2.0",
            "_view_count": null,
            "flex_flow": null,
            "width": null,
            "min_width": null,
            "border": null,
            "align_items": null,
            "bottom": null,
            "_model_module": "@jupyter-widgets/base",
            "top": null,
            "grid_column": null,
            "overflow_y": null,
            "overflow_x": null,
            "grid_auto_flow": null,
            "grid_area": null,
            "grid_template_columns": null,
            "flex": null,
            "_model_name": "LayoutModel",
            "justify_items": null,
            "grid_row": null,
            "max_height": null,
            "align_content": null,
            "visibility": null,
            "align_self": null,
            "height": null,
            "min_height": null,
            "padding": null,
            "grid_auto_rows": null,
            "grid_gap": null,
            "max_width": null,
            "order": null,
            "_view_module_version": "1.2.0",
            "grid_template_areas": null,
            "object_position": null,
            "object_fit": null,
            "grid_auto_columns": null,
            "margin": null,
            "display": null,
            "left": null
          }
        },
        "156cef3493b4494aaa6986a09d9646ea": {
          "model_module": "@jupyter-widgets/controls",
          "model_name": "HBoxModel",
          "state": {
            "_view_name": "HBoxView",
            "_dom_classes": [],
            "_model_name": "HBoxModel",
            "_view_module": "@jupyter-widgets/controls",
            "_model_module_version": "1.5.0",
            "_view_count": null,
            "_view_module_version": "1.5.0",
            "box_style": "",
            "layout": "IPY_MODEL_d6c3ffcd2b484b7e8e7f5ef85f4354bd",
            "_model_module": "@jupyter-widgets/controls",
            "children": [
              "IPY_MODEL_e96ffc111d8d47b9b18462171a2eba48",
              "IPY_MODEL_3d43e6d6685f4ac08e3d245227510c90"
            ]
          }
        },
        "d6c3ffcd2b484b7e8e7f5ef85f4354bd": {
          "model_module": "@jupyter-widgets/base",
          "model_name": "LayoutModel",
          "state": {
            "_view_name": "LayoutView",
            "grid_template_rows": null,
            "right": null,
            "justify_content": null,
            "_view_module": "@jupyter-widgets/base",
            "overflow": null,
            "_model_module_version": "1.2.0",
            "_view_count": null,
            "flex_flow": "row wrap",
            "width": "100%",
            "min_width": null,
            "border": null,
            "align_items": null,
            "bottom": null,
            "_model_module": "@jupyter-widgets/base",
            "top": null,
            "grid_column": null,
            "overflow_y": null,
            "overflow_x": null,
            "grid_auto_flow": null,
            "grid_area": null,
            "grid_template_columns": null,
            "flex": null,
            "_model_name": "LayoutModel",
            "justify_items": null,
            "grid_row": null,
            "max_height": null,
            "align_content": null,
            "visibility": null,
            "align_self": null,
            "height": null,
            "min_height": null,
            "padding": null,
            "grid_auto_rows": null,
            "grid_gap": null,
            "max_width": null,
            "order": null,
            "_view_module_version": "1.2.0",
            "grid_template_areas": null,
            "object_position": null,
            "object_fit": null,
            "grid_auto_columns": null,
            "margin": null,
            "display": "inline-flex",
            "left": null
          }
        },
        "e96ffc111d8d47b9b18462171a2eba48": {
          "model_module": "@jupyter-widgets/controls",
          "model_name": "FloatProgressModel",
          "state": {
            "_view_name": "ProgressView",
            "style": "IPY_MODEL_cfaf854c27c841ae950e4bc80cb1e44c",
            "_dom_classes": [],
            "description": "Test: 100%",
            "_model_name": "FloatProgressModel",
            "bar_style": "",
            "max": 249,
            "_view_module": "@jupyter-widgets/controls",
            "_model_module_version": "1.5.0",
            "value": 249,
            "_view_count": null,
            "_view_module_version": "1.5.0",
            "orientation": "horizontal",
            "min": 0,
            "description_tooltip": null,
            "_model_module": "@jupyter-widgets/controls",
            "layout": "IPY_MODEL_8943535ab3a0461098da82f176d4e2a5"
          }
        },
        "3d43e6d6685f4ac08e3d245227510c90": {
          "model_module": "@jupyter-widgets/controls",
          "model_name": "HTMLModel",
          "state": {
            "_view_name": "HTMLView",
            "style": "IPY_MODEL_843769882c104bb29f27f88c3a0b2647",
            "_dom_classes": [],
            "description": "",
            "_model_name": "HTMLModel",
            "placeholder": "​",
            "_view_module": "@jupyter-widgets/controls",
            "_model_module_version": "1.5.0",
            "value": " 249/249 [00:00&lt;00:00, 297.51it/s]",
            "_view_count": null,
            "_view_module_version": "1.5.0",
            "description_tooltip": null,
            "_model_module": "@jupyter-widgets/controls",
            "layout": "IPY_MODEL_8ddf735e08c841e2b215a84868020b53"
          }
        },
        "cfaf854c27c841ae950e4bc80cb1e44c": {
          "model_module": "@jupyter-widgets/controls",
          "model_name": "ProgressStyleModel",
          "state": {
            "_view_name": "StyleView",
            "_model_name": "ProgressStyleModel",
            "description_width": "initial",
            "_view_module": "@jupyter-widgets/base",
            "_model_module_version": "1.5.0",
            "_view_count": null,
            "_view_module_version": "1.2.0",
            "bar_color": null,
            "_model_module": "@jupyter-widgets/controls"
          }
        },
        "8943535ab3a0461098da82f176d4e2a5": {
          "model_module": "@jupyter-widgets/base",
          "model_name": "LayoutModel",
          "state": {
            "_view_name": "LayoutView",
            "grid_template_rows": null,
            "right": null,
            "justify_content": null,
            "_view_module": "@jupyter-widgets/base",
            "overflow": null,
            "_model_module_version": "1.2.0",
            "_view_count": null,
            "flex_flow": null,
            "width": null,
            "min_width": null,
            "border": null,
            "align_items": null,
            "bottom": null,
            "_model_module": "@jupyter-widgets/base",
            "top": null,
            "grid_column": null,
            "overflow_y": null,
            "overflow_x": null,
            "grid_auto_flow": null,
            "grid_area": null,
            "grid_template_columns": null,
            "flex": "2",
            "_model_name": "LayoutModel",
            "justify_items": null,
            "grid_row": null,
            "max_height": null,
            "align_content": null,
            "visibility": null,
            "align_self": null,
            "height": null,
            "min_height": null,
            "padding": null,
            "grid_auto_rows": null,
            "grid_gap": null,
            "max_width": null,
            "order": null,
            "_view_module_version": "1.2.0",
            "grid_template_areas": null,
            "object_position": null,
            "object_fit": null,
            "grid_auto_columns": null,
            "margin": null,
            "display": null,
            "left": null
          }
        },
        "843769882c104bb29f27f88c3a0b2647": {
          "model_module": "@jupyter-widgets/controls",
          "model_name": "DescriptionStyleModel",
          "state": {
            "_view_name": "StyleView",
            "_model_name": "DescriptionStyleModel",
            "description_width": "",
            "_view_module": "@jupyter-widgets/base",
            "_model_module_version": "1.5.0",
            "_view_count": null,
            "_view_module_version": "1.2.0",
            "_model_module": "@jupyter-widgets/controls"
          }
        },
        "8ddf735e08c841e2b215a84868020b53": {
          "model_module": "@jupyter-widgets/base",
          "model_name": "LayoutModel",
          "state": {
            "_view_name": "LayoutView",
            "grid_template_rows": null,
            "right": null,
            "justify_content": null,
            "_view_module": "@jupyter-widgets/base",
            "overflow": null,
            "_model_module_version": "1.2.0",
            "_view_count": null,
            "flex_flow": null,
            "width": null,
            "min_width": null,
            "border": null,
            "align_items": null,
            "bottom": null,
            "_model_module": "@jupyter-widgets/base",
            "top": null,
            "grid_column": null,
            "overflow_y": null,
            "overflow_x": null,
            "grid_auto_flow": null,
            "grid_area": null,
            "grid_template_columns": null,
            "flex": null,
            "_model_name": "LayoutModel",
            "justify_items": null,
            "grid_row": null,
            "max_height": null,
            "align_content": null,
            "visibility": null,
            "align_self": null,
            "height": null,
            "min_height": null,
            "padding": null,
            "grid_auto_rows": null,
            "grid_gap": null,
            "max_width": null,
            "order": null,
            "_view_module_version": "1.2.0",
            "grid_template_areas": null,
            "object_position": null,
            "object_fit": null,
            "grid_auto_columns": null,
            "margin": null,
            "display": null,
            "left": null
          }
        },
        "1591cb5a647544608633e19989baf8bd": {
          "model_module": "@jupyter-widgets/controls",
          "model_name": "HBoxModel",
          "state": {
            "_view_name": "HBoxView",
            "_dom_classes": [],
            "_model_name": "HBoxModel",
            "_view_module": "@jupyter-widgets/controls",
            "_model_module_version": "1.5.0",
            "_view_count": null,
            "_view_module_version": "1.5.0",
            "box_style": "",
            "layout": "IPY_MODEL_cd8bfe5a5226485a9d5f4d88f84e4aa5",
            "_model_module": "@jupyter-widgets/controls",
            "children": [
              "IPY_MODEL_1f02412d32214f6082783cac4a687dd3",
              "IPY_MODEL_2874374d3e4b4f188d856f25e1fa37d9"
            ]
          }
        },
        "cd8bfe5a5226485a9d5f4d88f84e4aa5": {
          "model_module": "@jupyter-widgets/base",
          "model_name": "LayoutModel",
          "state": {
            "_view_name": "LayoutView",
            "grid_template_rows": null,
            "right": null,
            "justify_content": null,
            "_view_module": "@jupyter-widgets/base",
            "overflow": null,
            "_model_module_version": "1.2.0",
            "_view_count": null,
            "flex_flow": "row wrap",
            "width": "100%",
            "min_width": null,
            "border": null,
            "align_items": null,
            "bottom": null,
            "_model_module": "@jupyter-widgets/base",
            "top": null,
            "grid_column": null,
            "overflow_y": null,
            "overflow_x": null,
            "grid_auto_flow": null,
            "grid_area": null,
            "grid_template_columns": null,
            "flex": null,
            "_model_name": "LayoutModel",
            "justify_items": null,
            "grid_row": null,
            "max_height": null,
            "align_content": null,
            "visibility": null,
            "align_self": null,
            "height": null,
            "min_height": null,
            "padding": null,
            "grid_auto_rows": null,
            "grid_gap": null,
            "max_width": null,
            "order": null,
            "_view_module_version": "1.2.0",
            "grid_template_areas": null,
            "object_position": null,
            "object_fit": null,
            "grid_auto_columns": null,
            "margin": null,
            "display": "inline-flex",
            "left": null
          }
        },
        "1f02412d32214f6082783cac4a687dd3": {
          "model_module": "@jupyter-widgets/controls",
          "model_name": "FloatProgressModel",
          "state": {
            "_view_name": "ProgressView",
            "style": "IPY_MODEL_b961e486035441f7b62d67ae8b62c3b6",
            "_dom_classes": [],
            "description": "Test: 100%",
            "_model_name": "FloatProgressModel",
            "bar_style": "",
            "max": 249,
            "_view_module": "@jupyter-widgets/controls",
            "_model_module_version": "1.5.0",
            "value": 249,
            "_view_count": null,
            "_view_module_version": "1.5.0",
            "orientation": "horizontal",
            "min": 0,
            "description_tooltip": null,
            "_model_module": "@jupyter-widgets/controls",
            "layout": "IPY_MODEL_f37a32fd989c4f43b0333e2f0e521d8b"
          }
        },
        "2874374d3e4b4f188d856f25e1fa37d9": {
          "model_module": "@jupyter-widgets/controls",
          "model_name": "HTMLModel",
          "state": {
            "_view_name": "HTMLView",
            "style": "IPY_MODEL_0f726ff84d9a4cf8b3eb83f4814f7e85",
            "_dom_classes": [],
            "description": "",
            "_model_name": "HTMLModel",
            "placeholder": "​",
            "_view_module": "@jupyter-widgets/controls",
            "_model_module_version": "1.5.0",
            "value": " 249/249 [00:00&lt;00:00, 314.44it/s]",
            "_view_count": null,
            "_view_module_version": "1.5.0",
            "description_tooltip": null,
            "_model_module": "@jupyter-widgets/controls",
            "layout": "IPY_MODEL_0ccaa2eba4914e9dba732854ebf6729a"
          }
        },
        "b961e486035441f7b62d67ae8b62c3b6": {
          "model_module": "@jupyter-widgets/controls",
          "model_name": "ProgressStyleModel",
          "state": {
            "_view_name": "StyleView",
            "_model_name": "ProgressStyleModel",
            "description_width": "initial",
            "_view_module": "@jupyter-widgets/base",
            "_model_module_version": "1.5.0",
            "_view_count": null,
            "_view_module_version": "1.2.0",
            "bar_color": null,
            "_model_module": "@jupyter-widgets/controls"
          }
        },
        "f37a32fd989c4f43b0333e2f0e521d8b": {
          "model_module": "@jupyter-widgets/base",
          "model_name": "LayoutModel",
          "state": {
            "_view_name": "LayoutView",
            "grid_template_rows": null,
            "right": null,
            "justify_content": null,
            "_view_module": "@jupyter-widgets/base",
            "overflow": null,
            "_model_module_version": "1.2.0",
            "_view_count": null,
            "flex_flow": null,
            "width": null,
            "min_width": null,
            "border": null,
            "align_items": null,
            "bottom": null,
            "_model_module": "@jupyter-widgets/base",
            "top": null,
            "grid_column": null,
            "overflow_y": null,
            "overflow_x": null,
            "grid_auto_flow": null,
            "grid_area": null,
            "grid_template_columns": null,
            "flex": "2",
            "_model_name": "LayoutModel",
            "justify_items": null,
            "grid_row": null,
            "max_height": null,
            "align_content": null,
            "visibility": null,
            "align_self": null,
            "height": null,
            "min_height": null,
            "padding": null,
            "grid_auto_rows": null,
            "grid_gap": null,
            "max_width": null,
            "order": null,
            "_view_module_version": "1.2.0",
            "grid_template_areas": null,
            "object_position": null,
            "object_fit": null,
            "grid_auto_columns": null,
            "margin": null,
            "display": null,
            "left": null
          }
        },
        "0f726ff84d9a4cf8b3eb83f4814f7e85": {
          "model_module": "@jupyter-widgets/controls",
          "model_name": "DescriptionStyleModel",
          "state": {
            "_view_name": "StyleView",
            "_model_name": "DescriptionStyleModel",
            "description_width": "",
            "_view_module": "@jupyter-widgets/base",
            "_model_module_version": "1.5.0",
            "_view_count": null,
            "_view_module_version": "1.2.0",
            "_model_module": "@jupyter-widgets/controls"
          }
        },
        "0ccaa2eba4914e9dba732854ebf6729a": {
          "model_module": "@jupyter-widgets/base",
          "model_name": "LayoutModel",
          "state": {
            "_view_name": "LayoutView",
            "grid_template_rows": null,
            "right": null,
            "justify_content": null,
            "_view_module": "@jupyter-widgets/base",
            "overflow": null,
            "_model_module_version": "1.2.0",
            "_view_count": null,
            "flex_flow": null,
            "width": null,
            "min_width": null,
            "border": null,
            "align_items": null,
            "bottom": null,
            "_model_module": "@jupyter-widgets/base",
            "top": null,
            "grid_column": null,
            "overflow_y": null,
            "overflow_x": null,
            "grid_auto_flow": null,
            "grid_area": null,
            "grid_template_columns": null,
            "flex": null,
            "_model_name": "LayoutModel",
            "justify_items": null,
            "grid_row": null,
            "max_height": null,
            "align_content": null,
            "visibility": null,
            "align_self": null,
            "height": null,
            "min_height": null,
            "padding": null,
            "grid_auto_rows": null,
            "grid_gap": null,
            "max_width": null,
            "order": null,
            "_view_module_version": "1.2.0",
            "grid_template_areas": null,
            "object_position": null,
            "object_fit": null,
            "grid_auto_columns": null,
            "margin": null,
            "display": null,
            "left": null
          }
        },
        "6a5a3b25465146889cf726423eacb262": {
          "model_module": "@jupyter-widgets/controls",
          "model_name": "HBoxModel",
          "state": {
            "_view_name": "HBoxView",
            "_dom_classes": [],
            "_model_name": "HBoxModel",
            "_view_module": "@jupyter-widgets/controls",
            "_model_module_version": "1.5.0",
            "_view_count": null,
            "_view_module_version": "1.5.0",
            "box_style": "",
            "layout": "IPY_MODEL_5279e734e2da41dab59f805fa1ba5592",
            "_model_module": "@jupyter-widgets/controls",
            "children": [
              "IPY_MODEL_15ad511215484c0fa9d1479f9652b37e",
              "IPY_MODEL_097e7cdfd3624fdebbe94704cb05a2bc"
            ]
          }
        },
        "5279e734e2da41dab59f805fa1ba5592": {
          "model_module": "@jupyter-widgets/base",
          "model_name": "LayoutModel",
          "state": {
            "_view_name": "LayoutView",
            "grid_template_rows": null,
            "right": null,
            "justify_content": null,
            "_view_module": "@jupyter-widgets/base",
            "overflow": null,
            "_model_module_version": "1.2.0",
            "_view_count": null,
            "flex_flow": "row wrap",
            "width": "100%",
            "min_width": null,
            "border": null,
            "align_items": null,
            "bottom": null,
            "_model_module": "@jupyter-widgets/base",
            "top": null,
            "grid_column": null,
            "overflow_y": null,
            "overflow_x": null,
            "grid_auto_flow": null,
            "grid_area": null,
            "grid_template_columns": null,
            "flex": null,
            "_model_name": "LayoutModel",
            "justify_items": null,
            "grid_row": null,
            "max_height": null,
            "align_content": null,
            "visibility": null,
            "align_self": null,
            "height": null,
            "min_height": null,
            "padding": null,
            "grid_auto_rows": null,
            "grid_gap": null,
            "max_width": null,
            "order": null,
            "_view_module_version": "1.2.0",
            "grid_template_areas": null,
            "object_position": null,
            "object_fit": null,
            "grid_auto_columns": null,
            "margin": null,
            "display": "inline-flex",
            "left": null
          }
        },
        "15ad511215484c0fa9d1479f9652b37e": {
          "model_module": "@jupyter-widgets/controls",
          "model_name": "FloatProgressModel",
          "state": {
            "_view_name": "ProgressView",
            "style": "IPY_MODEL_d16769c1ef414c9b9da2db349becf7b7",
            "_dom_classes": [],
            "description": "Test: 100%",
            "_model_name": "FloatProgressModel",
            "bar_style": "",
            "max": 249,
            "_view_module": "@jupyter-widgets/controls",
            "_model_module_version": "1.5.0",
            "value": 249,
            "_view_count": null,
            "_view_module_version": "1.5.0",
            "orientation": "horizontal",
            "min": 0,
            "description_tooltip": null,
            "_model_module": "@jupyter-widgets/controls",
            "layout": "IPY_MODEL_4a539d15313a4723a568e108ab4d248f"
          }
        },
        "097e7cdfd3624fdebbe94704cb05a2bc": {
          "model_module": "@jupyter-widgets/controls",
          "model_name": "HTMLModel",
          "state": {
            "_view_name": "HTMLView",
            "style": "IPY_MODEL_e1330f987d0644c1befc31e93be4fc46",
            "_dom_classes": [],
            "description": "",
            "_model_name": "HTMLModel",
            "placeholder": "​",
            "_view_module": "@jupyter-widgets/controls",
            "_model_module_version": "1.5.0",
            "value": " 249/249 [00:00&lt;00:00, 312.50it/s]",
            "_view_count": null,
            "_view_module_version": "1.5.0",
            "description_tooltip": null,
            "_model_module": "@jupyter-widgets/controls",
            "layout": "IPY_MODEL_1f09161f50f7469db7049116fa95acea"
          }
        },
        "d16769c1ef414c9b9da2db349becf7b7": {
          "model_module": "@jupyter-widgets/controls",
          "model_name": "ProgressStyleModel",
          "state": {
            "_view_name": "StyleView",
            "_model_name": "ProgressStyleModel",
            "description_width": "initial",
            "_view_module": "@jupyter-widgets/base",
            "_model_module_version": "1.5.0",
            "_view_count": null,
            "_view_module_version": "1.2.0",
            "bar_color": null,
            "_model_module": "@jupyter-widgets/controls"
          }
        },
        "4a539d15313a4723a568e108ab4d248f": {
          "model_module": "@jupyter-widgets/base",
          "model_name": "LayoutModel",
          "state": {
            "_view_name": "LayoutView",
            "grid_template_rows": null,
            "right": null,
            "justify_content": null,
            "_view_module": "@jupyter-widgets/base",
            "overflow": null,
            "_model_module_version": "1.2.0",
            "_view_count": null,
            "flex_flow": null,
            "width": null,
            "min_width": null,
            "border": null,
            "align_items": null,
            "bottom": null,
            "_model_module": "@jupyter-widgets/base",
            "top": null,
            "grid_column": null,
            "overflow_y": null,
            "overflow_x": null,
            "grid_auto_flow": null,
            "grid_area": null,
            "grid_template_columns": null,
            "flex": "2",
            "_model_name": "LayoutModel",
            "justify_items": null,
            "grid_row": null,
            "max_height": null,
            "align_content": null,
            "visibility": null,
            "align_self": null,
            "height": null,
            "min_height": null,
            "padding": null,
            "grid_auto_rows": null,
            "grid_gap": null,
            "max_width": null,
            "order": null,
            "_view_module_version": "1.2.0",
            "grid_template_areas": null,
            "object_position": null,
            "object_fit": null,
            "grid_auto_columns": null,
            "margin": null,
            "display": null,
            "left": null
          }
        },
        "e1330f987d0644c1befc31e93be4fc46": {
          "model_module": "@jupyter-widgets/controls",
          "model_name": "DescriptionStyleModel",
          "state": {
            "_view_name": "StyleView",
            "_model_name": "DescriptionStyleModel",
            "description_width": "",
            "_view_module": "@jupyter-widgets/base",
            "_model_module_version": "1.5.0",
            "_view_count": null,
            "_view_module_version": "1.2.0",
            "_model_module": "@jupyter-widgets/controls"
          }
        },
        "1f09161f50f7469db7049116fa95acea": {
          "model_module": "@jupyter-widgets/base",
          "model_name": "LayoutModel",
          "state": {
            "_view_name": "LayoutView",
            "grid_template_rows": null,
            "right": null,
            "justify_content": null,
            "_view_module": "@jupyter-widgets/base",
            "overflow": null,
            "_model_module_version": "1.2.0",
            "_view_count": null,
            "flex_flow": null,
            "width": null,
            "min_width": null,
            "border": null,
            "align_items": null,
            "bottom": null,
            "_model_module": "@jupyter-widgets/base",
            "top": null,
            "grid_column": null,
            "overflow_y": null,
            "overflow_x": null,
            "grid_auto_flow": null,
            "grid_area": null,
            "grid_template_columns": null,
            "flex": null,
            "_model_name": "LayoutModel",
            "justify_items": null,
            "grid_row": null,
            "max_height": null,
            "align_content": null,
            "visibility": null,
            "align_self": null,
            "height": null,
            "min_height": null,
            "padding": null,
            "grid_auto_rows": null,
            "grid_gap": null,
            "max_width": null,
            "order": null,
            "_view_module_version": "1.2.0",
            "grid_template_areas": null,
            "object_position": null,
            "object_fit": null,
            "grid_auto_columns": null,
            "margin": null,
            "display": null,
            "left": null
          }
        },
        "759198cc00654c0d9cadf09665b6a9f5": {
          "model_module": "@jupyter-widgets/controls",
          "model_name": "HBoxModel",
          "state": {
            "_view_name": "HBoxView",
            "_dom_classes": [],
            "_model_name": "HBoxModel",
            "_view_module": "@jupyter-widgets/controls",
            "_model_module_version": "1.5.0",
            "_view_count": null,
            "_view_module_version": "1.5.0",
            "box_style": "",
            "layout": "IPY_MODEL_0cae5b19e0a04f03870d87f627e03117",
            "_model_module": "@jupyter-widgets/controls",
            "children": [
              "IPY_MODEL_0c9153a938d54473a1bc7ef795dfb99f",
              "IPY_MODEL_8471e7dc44dc4ef4af7efea3d929771c"
            ]
          }
        },
        "0cae5b19e0a04f03870d87f627e03117": {
          "model_module": "@jupyter-widgets/base",
          "model_name": "LayoutModel",
          "state": {
            "_view_name": "LayoutView",
            "grid_template_rows": null,
            "right": null,
            "justify_content": null,
            "_view_module": "@jupyter-widgets/base",
            "overflow": null,
            "_model_module_version": "1.2.0",
            "_view_count": null,
            "flex_flow": "row wrap",
            "width": "100%",
            "min_width": null,
            "border": null,
            "align_items": null,
            "bottom": null,
            "_model_module": "@jupyter-widgets/base",
            "top": null,
            "grid_column": null,
            "overflow_y": null,
            "overflow_x": null,
            "grid_auto_flow": null,
            "grid_area": null,
            "grid_template_columns": null,
            "flex": null,
            "_model_name": "LayoutModel",
            "justify_items": null,
            "grid_row": null,
            "max_height": null,
            "align_content": null,
            "visibility": null,
            "align_self": null,
            "height": null,
            "min_height": null,
            "padding": null,
            "grid_auto_rows": null,
            "grid_gap": null,
            "max_width": null,
            "order": null,
            "_view_module_version": "1.2.0",
            "grid_template_areas": null,
            "object_position": null,
            "object_fit": null,
            "grid_auto_columns": null,
            "margin": null,
            "display": "inline-flex",
            "left": null
          }
        },
        "0c9153a938d54473a1bc7ef795dfb99f": {
          "model_module": "@jupyter-widgets/controls",
          "model_name": "FloatProgressModel",
          "state": {
            "_view_name": "ProgressView",
            "style": "IPY_MODEL_f12161bc564b42289b760c03c113bf2d",
            "_dom_classes": [],
            "description": "Test: 100%",
            "_model_name": "FloatProgressModel",
            "bar_style": "",
            "max": 249,
            "_view_module": "@jupyter-widgets/controls",
            "_model_module_version": "1.5.0",
            "value": 249,
            "_view_count": null,
            "_view_module_version": "1.5.0",
            "orientation": "horizontal",
            "min": 0,
            "description_tooltip": null,
            "_model_module": "@jupyter-widgets/controls",
            "layout": "IPY_MODEL_0e288b45668346b5beeb336b022a70f8"
          }
        },
        "8471e7dc44dc4ef4af7efea3d929771c": {
          "model_module": "@jupyter-widgets/controls",
          "model_name": "HTMLModel",
          "state": {
            "_view_name": "HTMLView",
            "style": "IPY_MODEL_616327cc5fe44324b78f8443630b9baa",
            "_dom_classes": [],
            "description": "",
            "_model_name": "HTMLModel",
            "placeholder": "​",
            "_view_module": "@jupyter-widgets/controls",
            "_model_module_version": "1.5.0",
            "value": " 249/249 [00:00&lt;00:00, 322.93it/s]",
            "_view_count": null,
            "_view_module_version": "1.5.0",
            "description_tooltip": null,
            "_model_module": "@jupyter-widgets/controls",
            "layout": "IPY_MODEL_84073bb0567949a5966d598eafb01d60"
          }
        },
        "f12161bc564b42289b760c03c113bf2d": {
          "model_module": "@jupyter-widgets/controls",
          "model_name": "ProgressStyleModel",
          "state": {
            "_view_name": "StyleView",
            "_model_name": "ProgressStyleModel",
            "description_width": "initial",
            "_view_module": "@jupyter-widgets/base",
            "_model_module_version": "1.5.0",
            "_view_count": null,
            "_view_module_version": "1.2.0",
            "bar_color": null,
            "_model_module": "@jupyter-widgets/controls"
          }
        },
        "0e288b45668346b5beeb336b022a70f8": {
          "model_module": "@jupyter-widgets/base",
          "model_name": "LayoutModel",
          "state": {
            "_view_name": "LayoutView",
            "grid_template_rows": null,
            "right": null,
            "justify_content": null,
            "_view_module": "@jupyter-widgets/base",
            "overflow": null,
            "_model_module_version": "1.2.0",
            "_view_count": null,
            "flex_flow": null,
            "width": null,
            "min_width": null,
            "border": null,
            "align_items": null,
            "bottom": null,
            "_model_module": "@jupyter-widgets/base",
            "top": null,
            "grid_column": null,
            "overflow_y": null,
            "overflow_x": null,
            "grid_auto_flow": null,
            "grid_area": null,
            "grid_template_columns": null,
            "flex": "2",
            "_model_name": "LayoutModel",
            "justify_items": null,
            "grid_row": null,
            "max_height": null,
            "align_content": null,
            "visibility": null,
            "align_self": null,
            "height": null,
            "min_height": null,
            "padding": null,
            "grid_auto_rows": null,
            "grid_gap": null,
            "max_width": null,
            "order": null,
            "_view_module_version": "1.2.0",
            "grid_template_areas": null,
            "object_position": null,
            "object_fit": null,
            "grid_auto_columns": null,
            "margin": null,
            "display": null,
            "left": null
          }
        },
        "616327cc5fe44324b78f8443630b9baa": {
          "model_module": "@jupyter-widgets/controls",
          "model_name": "DescriptionStyleModel",
          "state": {
            "_view_name": "StyleView",
            "_model_name": "DescriptionStyleModel",
            "description_width": "",
            "_view_module": "@jupyter-widgets/base",
            "_model_module_version": "1.5.0",
            "_view_count": null,
            "_view_module_version": "1.2.0",
            "_model_module": "@jupyter-widgets/controls"
          }
        },
        "84073bb0567949a5966d598eafb01d60": {
          "model_module": "@jupyter-widgets/base",
          "model_name": "LayoutModel",
          "state": {
            "_view_name": "LayoutView",
            "grid_template_rows": null,
            "right": null,
            "justify_content": null,
            "_view_module": "@jupyter-widgets/base",
            "overflow": null,
            "_model_module_version": "1.2.0",
            "_view_count": null,
            "flex_flow": null,
            "width": null,
            "min_width": null,
            "border": null,
            "align_items": null,
            "bottom": null,
            "_model_module": "@jupyter-widgets/base",
            "top": null,
            "grid_column": null,
            "overflow_y": null,
            "overflow_x": null,
            "grid_auto_flow": null,
            "grid_area": null,
            "grid_template_columns": null,
            "flex": null,
            "_model_name": "LayoutModel",
            "justify_items": null,
            "grid_row": null,
            "max_height": null,
            "align_content": null,
            "visibility": null,
            "align_self": null,
            "height": null,
            "min_height": null,
            "padding": null,
            "grid_auto_rows": null,
            "grid_gap": null,
            "max_width": null,
            "order": null,
            "_view_module_version": "1.2.0",
            "grid_template_areas": null,
            "object_position": null,
            "object_fit": null,
            "grid_auto_columns": null,
            "margin": null,
            "display": null,
            "left": null
          }
        },
        "3726fc10825146759c8d59b30752076d": {
          "model_module": "@jupyter-widgets/controls",
          "model_name": "HBoxModel",
          "state": {
            "_view_name": "HBoxView",
            "_dom_classes": [],
            "_model_name": "HBoxModel",
            "_view_module": "@jupyter-widgets/controls",
            "_model_module_version": "1.5.0",
            "_view_count": null,
            "_view_module_version": "1.5.0",
            "box_style": "",
            "layout": "IPY_MODEL_73c3f263bc884ef0875cf23e3238995e",
            "_model_module": "@jupyter-widgets/controls",
            "children": [
              "IPY_MODEL_fc95c72789514953b2317ae737ccdb59",
              "IPY_MODEL_035bb0cebe6c4961928239980a6245dc"
            ]
          }
        },
        "73c3f263bc884ef0875cf23e3238995e": {
          "model_module": "@jupyter-widgets/base",
          "model_name": "LayoutModel",
          "state": {
            "_view_name": "LayoutView",
            "grid_template_rows": null,
            "right": null,
            "justify_content": null,
            "_view_module": "@jupyter-widgets/base",
            "overflow": null,
            "_model_module_version": "1.2.0",
            "_view_count": null,
            "flex_flow": "row wrap",
            "width": "100%",
            "min_width": null,
            "border": null,
            "align_items": null,
            "bottom": null,
            "_model_module": "@jupyter-widgets/base",
            "top": null,
            "grid_column": null,
            "overflow_y": null,
            "overflow_x": null,
            "grid_auto_flow": null,
            "grid_area": null,
            "grid_template_columns": null,
            "flex": null,
            "_model_name": "LayoutModel",
            "justify_items": null,
            "grid_row": null,
            "max_height": null,
            "align_content": null,
            "visibility": null,
            "align_self": null,
            "height": null,
            "min_height": null,
            "padding": null,
            "grid_auto_rows": null,
            "grid_gap": null,
            "max_width": null,
            "order": null,
            "_view_module_version": "1.2.0",
            "grid_template_areas": null,
            "object_position": null,
            "object_fit": null,
            "grid_auto_columns": null,
            "margin": null,
            "display": "inline-flex",
            "left": null
          }
        },
        "fc95c72789514953b2317ae737ccdb59": {
          "model_module": "@jupyter-widgets/controls",
          "model_name": "FloatProgressModel",
          "state": {
            "_view_name": "ProgressView",
            "style": "IPY_MODEL_1111a352aa2540b491a89900634d7ec4",
            "_dom_classes": [],
            "description": "Test: 100%",
            "_model_name": "FloatProgressModel",
            "bar_style": "",
            "max": 249,
            "_view_module": "@jupyter-widgets/controls",
            "_model_module_version": "1.5.0",
            "value": 249,
            "_view_count": null,
            "_view_module_version": "1.5.0",
            "orientation": "horizontal",
            "min": 0,
            "description_tooltip": null,
            "_model_module": "@jupyter-widgets/controls",
            "layout": "IPY_MODEL_89011cc9863e484fa69c21523fa5a6e7"
          }
        },
        "035bb0cebe6c4961928239980a6245dc": {
          "model_module": "@jupyter-widgets/controls",
          "model_name": "HTMLModel",
          "state": {
            "_view_name": "HTMLView",
            "style": "IPY_MODEL_bb0de3a7e520400892ceaafceed5d0b2",
            "_dom_classes": [],
            "description": "",
            "_model_name": "HTMLModel",
            "placeholder": "​",
            "_view_module": "@jupyter-widgets/controls",
            "_model_module_version": "1.5.0",
            "value": " 249/249 [00:00&lt;00:00, 307.39it/s]",
            "_view_count": null,
            "_view_module_version": "1.5.0",
            "description_tooltip": null,
            "_model_module": "@jupyter-widgets/controls",
            "layout": "IPY_MODEL_f403e063569a48ebb1b71c970f0dd451"
          }
        },
        "1111a352aa2540b491a89900634d7ec4": {
          "model_module": "@jupyter-widgets/controls",
          "model_name": "ProgressStyleModel",
          "state": {
            "_view_name": "StyleView",
            "_model_name": "ProgressStyleModel",
            "description_width": "initial",
            "_view_module": "@jupyter-widgets/base",
            "_model_module_version": "1.5.0",
            "_view_count": null,
            "_view_module_version": "1.2.0",
            "bar_color": null,
            "_model_module": "@jupyter-widgets/controls"
          }
        },
        "89011cc9863e484fa69c21523fa5a6e7": {
          "model_module": "@jupyter-widgets/base",
          "model_name": "LayoutModel",
          "state": {
            "_view_name": "LayoutView",
            "grid_template_rows": null,
            "right": null,
            "justify_content": null,
            "_view_module": "@jupyter-widgets/base",
            "overflow": null,
            "_model_module_version": "1.2.0",
            "_view_count": null,
            "flex_flow": null,
            "width": null,
            "min_width": null,
            "border": null,
            "align_items": null,
            "bottom": null,
            "_model_module": "@jupyter-widgets/base",
            "top": null,
            "grid_column": null,
            "overflow_y": null,
            "overflow_x": null,
            "grid_auto_flow": null,
            "grid_area": null,
            "grid_template_columns": null,
            "flex": "2",
            "_model_name": "LayoutModel",
            "justify_items": null,
            "grid_row": null,
            "max_height": null,
            "align_content": null,
            "visibility": null,
            "align_self": null,
            "height": null,
            "min_height": null,
            "padding": null,
            "grid_auto_rows": null,
            "grid_gap": null,
            "max_width": null,
            "order": null,
            "_view_module_version": "1.2.0",
            "grid_template_areas": null,
            "object_position": null,
            "object_fit": null,
            "grid_auto_columns": null,
            "margin": null,
            "display": null,
            "left": null
          }
        },
        "bb0de3a7e520400892ceaafceed5d0b2": {
          "model_module": "@jupyter-widgets/controls",
          "model_name": "DescriptionStyleModel",
          "state": {
            "_view_name": "StyleView",
            "_model_name": "DescriptionStyleModel",
            "description_width": "",
            "_view_module": "@jupyter-widgets/base",
            "_model_module_version": "1.5.0",
            "_view_count": null,
            "_view_module_version": "1.2.0",
            "_model_module": "@jupyter-widgets/controls"
          }
        },
        "f403e063569a48ebb1b71c970f0dd451": {
          "model_module": "@jupyter-widgets/base",
          "model_name": "LayoutModel",
          "state": {
            "_view_name": "LayoutView",
            "grid_template_rows": null,
            "right": null,
            "justify_content": null,
            "_view_module": "@jupyter-widgets/base",
            "overflow": null,
            "_model_module_version": "1.2.0",
            "_view_count": null,
            "flex_flow": null,
            "width": null,
            "min_width": null,
            "border": null,
            "align_items": null,
            "bottom": null,
            "_model_module": "@jupyter-widgets/base",
            "top": null,
            "grid_column": null,
            "overflow_y": null,
            "overflow_x": null,
            "grid_auto_flow": null,
            "grid_area": null,
            "grid_template_columns": null,
            "flex": null,
            "_model_name": "LayoutModel",
            "justify_items": null,
            "grid_row": null,
            "max_height": null,
            "align_content": null,
            "visibility": null,
            "align_self": null,
            "height": null,
            "min_height": null,
            "padding": null,
            "grid_auto_rows": null,
            "grid_gap": null,
            "max_width": null,
            "order": null,
            "_view_module_version": "1.2.0",
            "grid_template_areas": null,
            "object_position": null,
            "object_fit": null,
            "grid_auto_columns": null,
            "margin": null,
            "display": null,
            "left": null
          }
        },
        "f826b1291d3a445ab4803366d56637a7": {
          "model_module": "@jupyter-widgets/controls",
          "model_name": "HBoxModel",
          "state": {
            "_view_name": "HBoxView",
            "_dom_classes": [],
            "_model_name": "HBoxModel",
            "_view_module": "@jupyter-widgets/controls",
            "_model_module_version": "1.5.0",
            "_view_count": null,
            "_view_module_version": "1.5.0",
            "box_style": "",
            "layout": "IPY_MODEL_6db1890474c84994bcc24a307e9b9a47",
            "_model_module": "@jupyter-widgets/controls",
            "children": [
              "IPY_MODEL_5b03d37e4324482c8a27a66716eeda72",
              "IPY_MODEL_0c0a2816b6ae40b2baa0021400b97ce6"
            ]
          }
        },
        "6db1890474c84994bcc24a307e9b9a47": {
          "model_module": "@jupyter-widgets/base",
          "model_name": "LayoutModel",
          "state": {
            "_view_name": "LayoutView",
            "grid_template_rows": null,
            "right": null,
            "justify_content": null,
            "_view_module": "@jupyter-widgets/base",
            "overflow": null,
            "_model_module_version": "1.2.0",
            "_view_count": null,
            "flex_flow": "row wrap",
            "width": "100%",
            "min_width": null,
            "border": null,
            "align_items": null,
            "bottom": null,
            "_model_module": "@jupyter-widgets/base",
            "top": null,
            "grid_column": null,
            "overflow_y": null,
            "overflow_x": null,
            "grid_auto_flow": null,
            "grid_area": null,
            "grid_template_columns": null,
            "flex": null,
            "_model_name": "LayoutModel",
            "justify_items": null,
            "grid_row": null,
            "max_height": null,
            "align_content": null,
            "visibility": null,
            "align_self": null,
            "height": null,
            "min_height": null,
            "padding": null,
            "grid_auto_rows": null,
            "grid_gap": null,
            "max_width": null,
            "order": null,
            "_view_module_version": "1.2.0",
            "grid_template_areas": null,
            "object_position": null,
            "object_fit": null,
            "grid_auto_columns": null,
            "margin": null,
            "display": "inline-flex",
            "left": null
          }
        },
        "5b03d37e4324482c8a27a66716eeda72": {
          "model_module": "@jupyter-widgets/controls",
          "model_name": "FloatProgressModel",
          "state": {
            "_view_name": "ProgressView",
            "style": "IPY_MODEL_70690685ba7e4387bf8a622397ec860f",
            "_dom_classes": [],
            "description": "Test: 100%",
            "_model_name": "FloatProgressModel",
            "bar_style": "",
            "max": 249,
            "_view_module": "@jupyter-widgets/controls",
            "_model_module_version": "1.5.0",
            "value": 249,
            "_view_count": null,
            "_view_module_version": "1.5.0",
            "orientation": "horizontal",
            "min": 0,
            "description_tooltip": null,
            "_model_module": "@jupyter-widgets/controls",
            "layout": "IPY_MODEL_64270946306f4548991162c19a05f177"
          }
        },
        "0c0a2816b6ae40b2baa0021400b97ce6": {
          "model_module": "@jupyter-widgets/controls",
          "model_name": "HTMLModel",
          "state": {
            "_view_name": "HTMLView",
            "style": "IPY_MODEL_fc99f26eafe24e57a98fb825e0ca037d",
            "_dom_classes": [],
            "description": "",
            "_model_name": "HTMLModel",
            "placeholder": "​",
            "_view_module": "@jupyter-widgets/controls",
            "_model_module_version": "1.5.0",
            "value": " 249/249 [00:00&lt;00:00, 316.40it/s]",
            "_view_count": null,
            "_view_module_version": "1.5.0",
            "description_tooltip": null,
            "_model_module": "@jupyter-widgets/controls",
            "layout": "IPY_MODEL_ef2a0e0b59324413a9876edb9b2ffaa2"
          }
        },
        "70690685ba7e4387bf8a622397ec860f": {
          "model_module": "@jupyter-widgets/controls",
          "model_name": "ProgressStyleModel",
          "state": {
            "_view_name": "StyleView",
            "_model_name": "ProgressStyleModel",
            "description_width": "initial",
            "_view_module": "@jupyter-widgets/base",
            "_model_module_version": "1.5.0",
            "_view_count": null,
            "_view_module_version": "1.2.0",
            "bar_color": null,
            "_model_module": "@jupyter-widgets/controls"
          }
        },
        "64270946306f4548991162c19a05f177": {
          "model_module": "@jupyter-widgets/base",
          "model_name": "LayoutModel",
          "state": {
            "_view_name": "LayoutView",
            "grid_template_rows": null,
            "right": null,
            "justify_content": null,
            "_view_module": "@jupyter-widgets/base",
            "overflow": null,
            "_model_module_version": "1.2.0",
            "_view_count": null,
            "flex_flow": null,
            "width": null,
            "min_width": null,
            "border": null,
            "align_items": null,
            "bottom": null,
            "_model_module": "@jupyter-widgets/base",
            "top": null,
            "grid_column": null,
            "overflow_y": null,
            "overflow_x": null,
            "grid_auto_flow": null,
            "grid_area": null,
            "grid_template_columns": null,
            "flex": "2",
            "_model_name": "LayoutModel",
            "justify_items": null,
            "grid_row": null,
            "max_height": null,
            "align_content": null,
            "visibility": null,
            "align_self": null,
            "height": null,
            "min_height": null,
            "padding": null,
            "grid_auto_rows": null,
            "grid_gap": null,
            "max_width": null,
            "order": null,
            "_view_module_version": "1.2.0",
            "grid_template_areas": null,
            "object_position": null,
            "object_fit": null,
            "grid_auto_columns": null,
            "margin": null,
            "display": null,
            "left": null
          }
        },
        "fc99f26eafe24e57a98fb825e0ca037d": {
          "model_module": "@jupyter-widgets/controls",
          "model_name": "DescriptionStyleModel",
          "state": {
            "_view_name": "StyleView",
            "_model_name": "DescriptionStyleModel",
            "description_width": "",
            "_view_module": "@jupyter-widgets/base",
            "_model_module_version": "1.5.0",
            "_view_count": null,
            "_view_module_version": "1.2.0",
            "_model_module": "@jupyter-widgets/controls"
          }
        },
        "ef2a0e0b59324413a9876edb9b2ffaa2": {
          "model_module": "@jupyter-widgets/base",
          "model_name": "LayoutModel",
          "state": {
            "_view_name": "LayoutView",
            "grid_template_rows": null,
            "right": null,
            "justify_content": null,
            "_view_module": "@jupyter-widgets/base",
            "overflow": null,
            "_model_module_version": "1.2.0",
            "_view_count": null,
            "flex_flow": null,
            "width": null,
            "min_width": null,
            "border": null,
            "align_items": null,
            "bottom": null,
            "_model_module": "@jupyter-widgets/base",
            "top": null,
            "grid_column": null,
            "overflow_y": null,
            "overflow_x": null,
            "grid_auto_flow": null,
            "grid_area": null,
            "grid_template_columns": null,
            "flex": null,
            "_model_name": "LayoutModel",
            "justify_items": null,
            "grid_row": null,
            "max_height": null,
            "align_content": null,
            "visibility": null,
            "align_self": null,
            "height": null,
            "min_height": null,
            "padding": null,
            "grid_auto_rows": null,
            "grid_gap": null,
            "max_width": null,
            "order": null,
            "_view_module_version": "1.2.0",
            "grid_template_areas": null,
            "object_position": null,
            "object_fit": null,
            "grid_auto_columns": null,
            "margin": null,
            "display": null,
            "left": null
          }
        },
        "cdd5a81fe280496da39035a915a2018d": {
          "model_module": "@jupyter-widgets/controls",
          "model_name": "HBoxModel",
          "state": {
            "_view_name": "HBoxView",
            "_dom_classes": [],
            "_model_name": "HBoxModel",
            "_view_module": "@jupyter-widgets/controls",
            "_model_module_version": "1.5.0",
            "_view_count": null,
            "_view_module_version": "1.5.0",
            "box_style": "",
            "layout": "IPY_MODEL_2f83106e09f44848953f9c7e98cf28c6",
            "_model_module": "@jupyter-widgets/controls",
            "children": [
              "IPY_MODEL_df131b3d903e4732bab6ca31dea169ef",
              "IPY_MODEL_dde8c4805c9540b8864a320b18fa6a19"
            ]
          }
        },
        "2f83106e09f44848953f9c7e98cf28c6": {
          "model_module": "@jupyter-widgets/base",
          "model_name": "LayoutModel",
          "state": {
            "_view_name": "LayoutView",
            "grid_template_rows": null,
            "right": null,
            "justify_content": null,
            "_view_module": "@jupyter-widgets/base",
            "overflow": null,
            "_model_module_version": "1.2.0",
            "_view_count": null,
            "flex_flow": "row wrap",
            "width": "100%",
            "min_width": null,
            "border": null,
            "align_items": null,
            "bottom": null,
            "_model_module": "@jupyter-widgets/base",
            "top": null,
            "grid_column": null,
            "overflow_y": null,
            "overflow_x": null,
            "grid_auto_flow": null,
            "grid_area": null,
            "grid_template_columns": null,
            "flex": null,
            "_model_name": "LayoutModel",
            "justify_items": null,
            "grid_row": null,
            "max_height": null,
            "align_content": null,
            "visibility": null,
            "align_self": null,
            "height": null,
            "min_height": null,
            "padding": null,
            "grid_auto_rows": null,
            "grid_gap": null,
            "max_width": null,
            "order": null,
            "_view_module_version": "1.2.0",
            "grid_template_areas": null,
            "object_position": null,
            "object_fit": null,
            "grid_auto_columns": null,
            "margin": null,
            "display": "inline-flex",
            "left": null
          }
        },
        "df131b3d903e4732bab6ca31dea169ef": {
          "model_module": "@jupyter-widgets/controls",
          "model_name": "FloatProgressModel",
          "state": {
            "_view_name": "ProgressView",
            "style": "IPY_MODEL_be46b542968a41bdb8fa2139f12ce5b0",
            "_dom_classes": [],
            "description": "Test: 100%",
            "_model_name": "FloatProgressModel",
            "bar_style": "",
            "max": 249,
            "_view_module": "@jupyter-widgets/controls",
            "_model_module_version": "1.5.0",
            "value": 249,
            "_view_count": null,
            "_view_module_version": "1.5.0",
            "orientation": "horizontal",
            "min": 0,
            "description_tooltip": null,
            "_model_module": "@jupyter-widgets/controls",
            "layout": "IPY_MODEL_be77485b6fcd4abb9ca2816c6c98a927"
          }
        },
        "dde8c4805c9540b8864a320b18fa6a19": {
          "model_module": "@jupyter-widgets/controls",
          "model_name": "HTMLModel",
          "state": {
            "_view_name": "HTMLView",
            "style": "IPY_MODEL_2b9fe2c203ea463c9d54b3493b825a7a",
            "_dom_classes": [],
            "description": "",
            "_model_name": "HTMLModel",
            "placeholder": "​",
            "_view_module": "@jupyter-widgets/controls",
            "_model_module_version": "1.5.0",
            "value": " 249/249 [00:00&lt;00:00, 322.92it/s]",
            "_view_count": null,
            "_view_module_version": "1.5.0",
            "description_tooltip": null,
            "_model_module": "@jupyter-widgets/controls",
            "layout": "IPY_MODEL_164b472bcbce4d2bb6a9eb715ce970ee"
          }
        },
        "be46b542968a41bdb8fa2139f12ce5b0": {
          "model_module": "@jupyter-widgets/controls",
          "model_name": "ProgressStyleModel",
          "state": {
            "_view_name": "StyleView",
            "_model_name": "ProgressStyleModel",
            "description_width": "initial",
            "_view_module": "@jupyter-widgets/base",
            "_model_module_version": "1.5.0",
            "_view_count": null,
            "_view_module_version": "1.2.0",
            "bar_color": null,
            "_model_module": "@jupyter-widgets/controls"
          }
        },
        "be77485b6fcd4abb9ca2816c6c98a927": {
          "model_module": "@jupyter-widgets/base",
          "model_name": "LayoutModel",
          "state": {
            "_view_name": "LayoutView",
            "grid_template_rows": null,
            "right": null,
            "justify_content": null,
            "_view_module": "@jupyter-widgets/base",
            "overflow": null,
            "_model_module_version": "1.2.0",
            "_view_count": null,
            "flex_flow": null,
            "width": null,
            "min_width": null,
            "border": null,
            "align_items": null,
            "bottom": null,
            "_model_module": "@jupyter-widgets/base",
            "top": null,
            "grid_column": null,
            "overflow_y": null,
            "overflow_x": null,
            "grid_auto_flow": null,
            "grid_area": null,
            "grid_template_columns": null,
            "flex": "2",
            "_model_name": "LayoutModel",
            "justify_items": null,
            "grid_row": null,
            "max_height": null,
            "align_content": null,
            "visibility": null,
            "align_self": null,
            "height": null,
            "min_height": null,
            "padding": null,
            "grid_auto_rows": null,
            "grid_gap": null,
            "max_width": null,
            "order": null,
            "_view_module_version": "1.2.0",
            "grid_template_areas": null,
            "object_position": null,
            "object_fit": null,
            "grid_auto_columns": null,
            "margin": null,
            "display": null,
            "left": null
          }
        },
        "2b9fe2c203ea463c9d54b3493b825a7a": {
          "model_module": "@jupyter-widgets/controls",
          "model_name": "DescriptionStyleModel",
          "state": {
            "_view_name": "StyleView",
            "_model_name": "DescriptionStyleModel",
            "description_width": "",
            "_view_module": "@jupyter-widgets/base",
            "_model_module_version": "1.5.0",
            "_view_count": null,
            "_view_module_version": "1.2.0",
            "_model_module": "@jupyter-widgets/controls"
          }
        },
        "164b472bcbce4d2bb6a9eb715ce970ee": {
          "model_module": "@jupyter-widgets/base",
          "model_name": "LayoutModel",
          "state": {
            "_view_name": "LayoutView",
            "grid_template_rows": null,
            "right": null,
            "justify_content": null,
            "_view_module": "@jupyter-widgets/base",
            "overflow": null,
            "_model_module_version": "1.2.0",
            "_view_count": null,
            "flex_flow": null,
            "width": null,
            "min_width": null,
            "border": null,
            "align_items": null,
            "bottom": null,
            "_model_module": "@jupyter-widgets/base",
            "top": null,
            "grid_column": null,
            "overflow_y": null,
            "overflow_x": null,
            "grid_auto_flow": null,
            "grid_area": null,
            "grid_template_columns": null,
            "flex": null,
            "_model_name": "LayoutModel",
            "justify_items": null,
            "grid_row": null,
            "max_height": null,
            "align_content": null,
            "visibility": null,
            "align_self": null,
            "height": null,
            "min_height": null,
            "padding": null,
            "grid_auto_rows": null,
            "grid_gap": null,
            "max_width": null,
            "order": null,
            "_view_module_version": "1.2.0",
            "grid_template_areas": null,
            "object_position": null,
            "object_fit": null,
            "grid_auto_columns": null,
            "margin": null,
            "display": null,
            "left": null
          }
        },
        "c51d34648ae64411a0a6bf02e0a379e6": {
          "model_module": "@jupyter-widgets/controls",
          "model_name": "HBoxModel",
          "state": {
            "_view_name": "HBoxView",
            "_dom_classes": [],
            "_model_name": "HBoxModel",
            "_view_module": "@jupyter-widgets/controls",
            "_model_module_version": "1.5.0",
            "_view_count": null,
            "_view_module_version": "1.5.0",
            "box_style": "",
            "layout": "IPY_MODEL_5247aefe6ccf481181e5796ac735f08d",
            "_model_module": "@jupyter-widgets/controls",
            "children": [
              "IPY_MODEL_6a4394a8e0284bd19905eb096c154199",
              "IPY_MODEL_7ba39feb6e5148bfa61fd273c9d97ab7"
            ]
          }
        },
        "5247aefe6ccf481181e5796ac735f08d": {
          "model_module": "@jupyter-widgets/base",
          "model_name": "LayoutModel",
          "state": {
            "_view_name": "LayoutView",
            "grid_template_rows": null,
            "right": null,
            "justify_content": null,
            "_view_module": "@jupyter-widgets/base",
            "overflow": null,
            "_model_module_version": "1.2.0",
            "_view_count": null,
            "flex_flow": "row wrap",
            "width": "100%",
            "min_width": null,
            "border": null,
            "align_items": null,
            "bottom": null,
            "_model_module": "@jupyter-widgets/base",
            "top": null,
            "grid_column": null,
            "overflow_y": null,
            "overflow_x": null,
            "grid_auto_flow": null,
            "grid_area": null,
            "grid_template_columns": null,
            "flex": null,
            "_model_name": "LayoutModel",
            "justify_items": null,
            "grid_row": null,
            "max_height": null,
            "align_content": null,
            "visibility": null,
            "align_self": null,
            "height": null,
            "min_height": null,
            "padding": null,
            "grid_auto_rows": null,
            "grid_gap": null,
            "max_width": null,
            "order": null,
            "_view_module_version": "1.2.0",
            "grid_template_areas": null,
            "object_position": null,
            "object_fit": null,
            "grid_auto_columns": null,
            "margin": null,
            "display": "inline-flex",
            "left": null
          }
        },
        "6a4394a8e0284bd19905eb096c154199": {
          "model_module": "@jupyter-widgets/controls",
          "model_name": "FloatProgressModel",
          "state": {
            "_view_name": "ProgressView",
            "style": "IPY_MODEL_1e7281f373fc4d0db1df94f2c50e5167",
            "_dom_classes": [],
            "description": "Test: 100%",
            "_model_name": "FloatProgressModel",
            "bar_style": "",
            "max": 249,
            "_view_module": "@jupyter-widgets/controls",
            "_model_module_version": "1.5.0",
            "value": 249,
            "_view_count": null,
            "_view_module_version": "1.5.0",
            "orientation": "horizontal",
            "min": 0,
            "description_tooltip": null,
            "_model_module": "@jupyter-widgets/controls",
            "layout": "IPY_MODEL_3c0484410dd94d769bd713527c963eb9"
          }
        },
        "7ba39feb6e5148bfa61fd273c9d97ab7": {
          "model_module": "@jupyter-widgets/controls",
          "model_name": "HTMLModel",
          "state": {
            "_view_name": "HTMLView",
            "style": "IPY_MODEL_f3efa5bf174643f5a5944c6a9ec764fc",
            "_dom_classes": [],
            "description": "",
            "_model_name": "HTMLModel",
            "placeholder": "​",
            "_view_module": "@jupyter-widgets/controls",
            "_model_module_version": "1.5.0",
            "value": " 249/249 [00:00&lt;00:00, 325.85it/s]",
            "_view_count": null,
            "_view_module_version": "1.5.0",
            "description_tooltip": null,
            "_model_module": "@jupyter-widgets/controls",
            "layout": "IPY_MODEL_15b60da5593348389e33d185921730ea"
          }
        },
        "1e7281f373fc4d0db1df94f2c50e5167": {
          "model_module": "@jupyter-widgets/controls",
          "model_name": "ProgressStyleModel",
          "state": {
            "_view_name": "StyleView",
            "_model_name": "ProgressStyleModel",
            "description_width": "initial",
            "_view_module": "@jupyter-widgets/base",
            "_model_module_version": "1.5.0",
            "_view_count": null,
            "_view_module_version": "1.2.0",
            "bar_color": null,
            "_model_module": "@jupyter-widgets/controls"
          }
        },
        "3c0484410dd94d769bd713527c963eb9": {
          "model_module": "@jupyter-widgets/base",
          "model_name": "LayoutModel",
          "state": {
            "_view_name": "LayoutView",
            "grid_template_rows": null,
            "right": null,
            "justify_content": null,
            "_view_module": "@jupyter-widgets/base",
            "overflow": null,
            "_model_module_version": "1.2.0",
            "_view_count": null,
            "flex_flow": null,
            "width": null,
            "min_width": null,
            "border": null,
            "align_items": null,
            "bottom": null,
            "_model_module": "@jupyter-widgets/base",
            "top": null,
            "grid_column": null,
            "overflow_y": null,
            "overflow_x": null,
            "grid_auto_flow": null,
            "grid_area": null,
            "grid_template_columns": null,
            "flex": "2",
            "_model_name": "LayoutModel",
            "justify_items": null,
            "grid_row": null,
            "max_height": null,
            "align_content": null,
            "visibility": null,
            "align_self": null,
            "height": null,
            "min_height": null,
            "padding": null,
            "grid_auto_rows": null,
            "grid_gap": null,
            "max_width": null,
            "order": null,
            "_view_module_version": "1.2.0",
            "grid_template_areas": null,
            "object_position": null,
            "object_fit": null,
            "grid_auto_columns": null,
            "margin": null,
            "display": null,
            "left": null
          }
        },
        "f3efa5bf174643f5a5944c6a9ec764fc": {
          "model_module": "@jupyter-widgets/controls",
          "model_name": "DescriptionStyleModel",
          "state": {
            "_view_name": "StyleView",
            "_model_name": "DescriptionStyleModel",
            "description_width": "",
            "_view_module": "@jupyter-widgets/base",
            "_model_module_version": "1.5.0",
            "_view_count": null,
            "_view_module_version": "1.2.0",
            "_model_module": "@jupyter-widgets/controls"
          }
        },
        "15b60da5593348389e33d185921730ea": {
          "model_module": "@jupyter-widgets/base",
          "model_name": "LayoutModel",
          "state": {
            "_view_name": "LayoutView",
            "grid_template_rows": null,
            "right": null,
            "justify_content": null,
            "_view_module": "@jupyter-widgets/base",
            "overflow": null,
            "_model_module_version": "1.2.0",
            "_view_count": null,
            "flex_flow": null,
            "width": null,
            "min_width": null,
            "border": null,
            "align_items": null,
            "bottom": null,
            "_model_module": "@jupyter-widgets/base",
            "top": null,
            "grid_column": null,
            "overflow_y": null,
            "overflow_x": null,
            "grid_auto_flow": null,
            "grid_area": null,
            "grid_template_columns": null,
            "flex": null,
            "_model_name": "LayoutModel",
            "justify_items": null,
            "grid_row": null,
            "max_height": null,
            "align_content": null,
            "visibility": null,
            "align_self": null,
            "height": null,
            "min_height": null,
            "padding": null,
            "grid_auto_rows": null,
            "grid_gap": null,
            "max_width": null,
            "order": null,
            "_view_module_version": "1.2.0",
            "grid_template_areas": null,
            "object_position": null,
            "object_fit": null,
            "grid_auto_columns": null,
            "margin": null,
            "display": null,
            "left": null
          }
        },
        "42df46ae74064addab398c0c1b5c3d28": {
          "model_module": "@jupyter-widgets/controls",
          "model_name": "HBoxModel",
          "state": {
            "_view_name": "HBoxView",
            "_dom_classes": [],
            "_model_name": "HBoxModel",
            "_view_module": "@jupyter-widgets/controls",
            "_model_module_version": "1.5.0",
            "_view_count": null,
            "_view_module_version": "1.5.0",
            "box_style": "",
            "layout": "IPY_MODEL_5d2ddf03bf324d9cb90848f4e50ed5eb",
            "_model_module": "@jupyter-widgets/controls",
            "children": [
              "IPY_MODEL_b10a42acf3cd4f818507648588753d75",
              "IPY_MODEL_fb6f7b6ceb9845c4806583fb0283ca4c"
            ]
          }
        },
        "5d2ddf03bf324d9cb90848f4e50ed5eb": {
          "model_module": "@jupyter-widgets/base",
          "model_name": "LayoutModel",
          "state": {
            "_view_name": "LayoutView",
            "grid_template_rows": null,
            "right": null,
            "justify_content": null,
            "_view_module": "@jupyter-widgets/base",
            "overflow": null,
            "_model_module_version": "1.2.0",
            "_view_count": null,
            "flex_flow": "row wrap",
            "width": "100%",
            "min_width": null,
            "border": null,
            "align_items": null,
            "bottom": null,
            "_model_module": "@jupyter-widgets/base",
            "top": null,
            "grid_column": null,
            "overflow_y": null,
            "overflow_x": null,
            "grid_auto_flow": null,
            "grid_area": null,
            "grid_template_columns": null,
            "flex": null,
            "_model_name": "LayoutModel",
            "justify_items": null,
            "grid_row": null,
            "max_height": null,
            "align_content": null,
            "visibility": null,
            "align_self": null,
            "height": null,
            "min_height": null,
            "padding": null,
            "grid_auto_rows": null,
            "grid_gap": null,
            "max_width": null,
            "order": null,
            "_view_module_version": "1.2.0",
            "grid_template_areas": null,
            "object_position": null,
            "object_fit": null,
            "grid_auto_columns": null,
            "margin": null,
            "display": "inline-flex",
            "left": null
          }
        },
        "b10a42acf3cd4f818507648588753d75": {
          "model_module": "@jupyter-widgets/controls",
          "model_name": "FloatProgressModel",
          "state": {
            "_view_name": "ProgressView",
            "style": "IPY_MODEL_5c8ea4d2cf0a4b9a87414db8b08901bf",
            "_dom_classes": [],
            "description": "Test: 100%",
            "_model_name": "FloatProgressModel",
            "bar_style": "",
            "max": 249,
            "_view_module": "@jupyter-widgets/controls",
            "_model_module_version": "1.5.0",
            "value": 249,
            "_view_count": null,
            "_view_module_version": "1.5.0",
            "orientation": "horizontal",
            "min": 0,
            "description_tooltip": null,
            "_model_module": "@jupyter-widgets/controls",
            "layout": "IPY_MODEL_f0cc280e4d93400d900ec98bcafdfcb7"
          }
        },
        "fb6f7b6ceb9845c4806583fb0283ca4c": {
          "model_module": "@jupyter-widgets/controls",
          "model_name": "HTMLModel",
          "state": {
            "_view_name": "HTMLView",
            "style": "IPY_MODEL_58c6a578635f4dd7bc9ed0dd6ce39775",
            "_dom_classes": [],
            "description": "",
            "_model_name": "HTMLModel",
            "placeholder": "​",
            "_view_module": "@jupyter-widgets/controls",
            "_model_module_version": "1.5.0",
            "value": " 249/249 [00:00&lt;00:00, 310.97it/s]",
            "_view_count": null,
            "_view_module_version": "1.5.0",
            "description_tooltip": null,
            "_model_module": "@jupyter-widgets/controls",
            "layout": "IPY_MODEL_aea06f73d64b41cb8e01d27ffd138f50"
          }
        },
        "5c8ea4d2cf0a4b9a87414db8b08901bf": {
          "model_module": "@jupyter-widgets/controls",
          "model_name": "ProgressStyleModel",
          "state": {
            "_view_name": "StyleView",
            "_model_name": "ProgressStyleModel",
            "description_width": "initial",
            "_view_module": "@jupyter-widgets/base",
            "_model_module_version": "1.5.0",
            "_view_count": null,
            "_view_module_version": "1.2.0",
            "bar_color": null,
            "_model_module": "@jupyter-widgets/controls"
          }
        },
        "f0cc280e4d93400d900ec98bcafdfcb7": {
          "model_module": "@jupyter-widgets/base",
          "model_name": "LayoutModel",
          "state": {
            "_view_name": "LayoutView",
            "grid_template_rows": null,
            "right": null,
            "justify_content": null,
            "_view_module": "@jupyter-widgets/base",
            "overflow": null,
            "_model_module_version": "1.2.0",
            "_view_count": null,
            "flex_flow": null,
            "width": null,
            "min_width": null,
            "border": null,
            "align_items": null,
            "bottom": null,
            "_model_module": "@jupyter-widgets/base",
            "top": null,
            "grid_column": null,
            "overflow_y": null,
            "overflow_x": null,
            "grid_auto_flow": null,
            "grid_area": null,
            "grid_template_columns": null,
            "flex": "2",
            "_model_name": "LayoutModel",
            "justify_items": null,
            "grid_row": null,
            "max_height": null,
            "align_content": null,
            "visibility": null,
            "align_self": null,
            "height": null,
            "min_height": null,
            "padding": null,
            "grid_auto_rows": null,
            "grid_gap": null,
            "max_width": null,
            "order": null,
            "_view_module_version": "1.2.0",
            "grid_template_areas": null,
            "object_position": null,
            "object_fit": null,
            "grid_auto_columns": null,
            "margin": null,
            "display": null,
            "left": null
          }
        },
        "58c6a578635f4dd7bc9ed0dd6ce39775": {
          "model_module": "@jupyter-widgets/controls",
          "model_name": "DescriptionStyleModel",
          "state": {
            "_view_name": "StyleView",
            "_model_name": "DescriptionStyleModel",
            "description_width": "",
            "_view_module": "@jupyter-widgets/base",
            "_model_module_version": "1.5.0",
            "_view_count": null,
            "_view_module_version": "1.2.0",
            "_model_module": "@jupyter-widgets/controls"
          }
        },
        "aea06f73d64b41cb8e01d27ffd138f50": {
          "model_module": "@jupyter-widgets/base",
          "model_name": "LayoutModel",
          "state": {
            "_view_name": "LayoutView",
            "grid_template_rows": null,
            "right": null,
            "justify_content": null,
            "_view_module": "@jupyter-widgets/base",
            "overflow": null,
            "_model_module_version": "1.2.0",
            "_view_count": null,
            "flex_flow": null,
            "width": null,
            "min_width": null,
            "border": null,
            "align_items": null,
            "bottom": null,
            "_model_module": "@jupyter-widgets/base",
            "top": null,
            "grid_column": null,
            "overflow_y": null,
            "overflow_x": null,
            "grid_auto_flow": null,
            "grid_area": null,
            "grid_template_columns": null,
            "flex": null,
            "_model_name": "LayoutModel",
            "justify_items": null,
            "grid_row": null,
            "max_height": null,
            "align_content": null,
            "visibility": null,
            "align_self": null,
            "height": null,
            "min_height": null,
            "padding": null,
            "grid_auto_rows": null,
            "grid_gap": null,
            "max_width": null,
            "order": null,
            "_view_module_version": "1.2.0",
            "grid_template_areas": null,
            "object_position": null,
            "object_fit": null,
            "grid_auto_columns": null,
            "margin": null,
            "display": null,
            "left": null
          }
        },
        "54595391221240c2b64d0fa91c2c6add": {
          "model_module": "@jupyter-widgets/controls",
          "model_name": "HBoxModel",
          "state": {
            "_view_name": "HBoxView",
            "_dom_classes": [],
            "_model_name": "HBoxModel",
            "_view_module": "@jupyter-widgets/controls",
            "_model_module_version": "1.5.0",
            "_view_count": null,
            "_view_module_version": "1.5.0",
            "box_style": "",
            "layout": "IPY_MODEL_a131b596b1854e29a0b6f75184916b38",
            "_model_module": "@jupyter-widgets/controls",
            "children": [
              "IPY_MODEL_372bdd527d7446b791780c4a288d5b05",
              "IPY_MODEL_1dd4df892b83494b93e4bc8e324284c0"
            ]
          }
        },
        "a131b596b1854e29a0b6f75184916b38": {
          "model_module": "@jupyter-widgets/base",
          "model_name": "LayoutModel",
          "state": {
            "_view_name": "LayoutView",
            "grid_template_rows": null,
            "right": null,
            "justify_content": null,
            "_view_module": "@jupyter-widgets/base",
            "overflow": null,
            "_model_module_version": "1.2.0",
            "_view_count": null,
            "flex_flow": "row wrap",
            "width": "100%",
            "min_width": null,
            "border": null,
            "align_items": null,
            "bottom": null,
            "_model_module": "@jupyter-widgets/base",
            "top": null,
            "grid_column": null,
            "overflow_y": null,
            "overflow_x": null,
            "grid_auto_flow": null,
            "grid_area": null,
            "grid_template_columns": null,
            "flex": null,
            "_model_name": "LayoutModel",
            "justify_items": null,
            "grid_row": null,
            "max_height": null,
            "align_content": null,
            "visibility": null,
            "align_self": null,
            "height": null,
            "min_height": null,
            "padding": null,
            "grid_auto_rows": null,
            "grid_gap": null,
            "max_width": null,
            "order": null,
            "_view_module_version": "1.2.0",
            "grid_template_areas": null,
            "object_position": null,
            "object_fit": null,
            "grid_auto_columns": null,
            "margin": null,
            "display": "inline-flex",
            "left": null
          }
        },
        "372bdd527d7446b791780c4a288d5b05": {
          "model_module": "@jupyter-widgets/controls",
          "model_name": "FloatProgressModel",
          "state": {
            "_view_name": "ProgressView",
            "style": "IPY_MODEL_faa0bb6e3cb64e08ba3d83d6e36f7bf3",
            "_dom_classes": [],
            "description": "Test: 100%",
            "_model_name": "FloatProgressModel",
            "bar_style": "",
            "max": 249,
            "_view_module": "@jupyter-widgets/controls",
            "_model_module_version": "1.5.0",
            "value": 249,
            "_view_count": null,
            "_view_module_version": "1.5.0",
            "orientation": "horizontal",
            "min": 0,
            "description_tooltip": null,
            "_model_module": "@jupyter-widgets/controls",
            "layout": "IPY_MODEL_b9b1a03e949c41e3a200ce44dd6da1a9"
          }
        },
        "1dd4df892b83494b93e4bc8e324284c0": {
          "model_module": "@jupyter-widgets/controls",
          "model_name": "HTMLModel",
          "state": {
            "_view_name": "HTMLView",
            "style": "IPY_MODEL_77f18c9bd7fd48b3b746271c6788486b",
            "_dom_classes": [],
            "description": "",
            "_model_name": "HTMLModel",
            "placeholder": "​",
            "_view_module": "@jupyter-widgets/controls",
            "_model_module_version": "1.5.0",
            "value": " 249/249 [00:00&lt;00:00, 326.87it/s]",
            "_view_count": null,
            "_view_module_version": "1.5.0",
            "description_tooltip": null,
            "_model_module": "@jupyter-widgets/controls",
            "layout": "IPY_MODEL_772eb1de468f43578df3e98a1f4bc665"
          }
        },
        "faa0bb6e3cb64e08ba3d83d6e36f7bf3": {
          "model_module": "@jupyter-widgets/controls",
          "model_name": "ProgressStyleModel",
          "state": {
            "_view_name": "StyleView",
            "_model_name": "ProgressStyleModel",
            "description_width": "initial",
            "_view_module": "@jupyter-widgets/base",
            "_model_module_version": "1.5.0",
            "_view_count": null,
            "_view_module_version": "1.2.0",
            "bar_color": null,
            "_model_module": "@jupyter-widgets/controls"
          }
        },
        "b9b1a03e949c41e3a200ce44dd6da1a9": {
          "model_module": "@jupyter-widgets/base",
          "model_name": "LayoutModel",
          "state": {
            "_view_name": "LayoutView",
            "grid_template_rows": null,
            "right": null,
            "justify_content": null,
            "_view_module": "@jupyter-widgets/base",
            "overflow": null,
            "_model_module_version": "1.2.0",
            "_view_count": null,
            "flex_flow": null,
            "width": null,
            "min_width": null,
            "border": null,
            "align_items": null,
            "bottom": null,
            "_model_module": "@jupyter-widgets/base",
            "top": null,
            "grid_column": null,
            "overflow_y": null,
            "overflow_x": null,
            "grid_auto_flow": null,
            "grid_area": null,
            "grid_template_columns": null,
            "flex": "2",
            "_model_name": "LayoutModel",
            "justify_items": null,
            "grid_row": null,
            "max_height": null,
            "align_content": null,
            "visibility": null,
            "align_self": null,
            "height": null,
            "min_height": null,
            "padding": null,
            "grid_auto_rows": null,
            "grid_gap": null,
            "max_width": null,
            "order": null,
            "_view_module_version": "1.2.0",
            "grid_template_areas": null,
            "object_position": null,
            "object_fit": null,
            "grid_auto_columns": null,
            "margin": null,
            "display": null,
            "left": null
          }
        },
        "77f18c9bd7fd48b3b746271c6788486b": {
          "model_module": "@jupyter-widgets/controls",
          "model_name": "DescriptionStyleModel",
          "state": {
            "_view_name": "StyleView",
            "_model_name": "DescriptionStyleModel",
            "description_width": "",
            "_view_module": "@jupyter-widgets/base",
            "_model_module_version": "1.5.0",
            "_view_count": null,
            "_view_module_version": "1.2.0",
            "_model_module": "@jupyter-widgets/controls"
          }
        },
        "772eb1de468f43578df3e98a1f4bc665": {
          "model_module": "@jupyter-widgets/base",
          "model_name": "LayoutModel",
          "state": {
            "_view_name": "LayoutView",
            "grid_template_rows": null,
            "right": null,
            "justify_content": null,
            "_view_module": "@jupyter-widgets/base",
            "overflow": null,
            "_model_module_version": "1.2.0",
            "_view_count": null,
            "flex_flow": null,
            "width": null,
            "min_width": null,
            "border": null,
            "align_items": null,
            "bottom": null,
            "_model_module": "@jupyter-widgets/base",
            "top": null,
            "grid_column": null,
            "overflow_y": null,
            "overflow_x": null,
            "grid_auto_flow": null,
            "grid_area": null,
            "grid_template_columns": null,
            "flex": null,
            "_model_name": "LayoutModel",
            "justify_items": null,
            "grid_row": null,
            "max_height": null,
            "align_content": null,
            "visibility": null,
            "align_self": null,
            "height": null,
            "min_height": null,
            "padding": null,
            "grid_auto_rows": null,
            "grid_gap": null,
            "max_width": null,
            "order": null,
            "_view_module_version": "1.2.0",
            "grid_template_areas": null,
            "object_position": null,
            "object_fit": null,
            "grid_auto_columns": null,
            "margin": null,
            "display": null,
            "left": null
          }
        },
        "d5aa93222bfd48919c4d27da0683afa0": {
          "model_module": "@jupyter-widgets/controls",
          "model_name": "HBoxModel",
          "state": {
            "_view_name": "HBoxView",
            "_dom_classes": [],
            "_model_name": "HBoxModel",
            "_view_module": "@jupyter-widgets/controls",
            "_model_module_version": "1.5.0",
            "_view_count": null,
            "_view_module_version": "1.5.0",
            "box_style": "",
            "layout": "IPY_MODEL_6341d51fe0a14a15977c713a4f2383ee",
            "_model_module": "@jupyter-widgets/controls",
            "children": [
              "IPY_MODEL_d641babe50e447249f243dfc2b4783e8",
              "IPY_MODEL_9472a91cd25e47f2bab2af3ff00e16e9"
            ]
          }
        },
        "6341d51fe0a14a15977c713a4f2383ee": {
          "model_module": "@jupyter-widgets/base",
          "model_name": "LayoutModel",
          "state": {
            "_view_name": "LayoutView",
            "grid_template_rows": null,
            "right": null,
            "justify_content": null,
            "_view_module": "@jupyter-widgets/base",
            "overflow": null,
            "_model_module_version": "1.2.0",
            "_view_count": null,
            "flex_flow": "row wrap",
            "width": "100%",
            "min_width": null,
            "border": null,
            "align_items": null,
            "bottom": null,
            "_model_module": "@jupyter-widgets/base",
            "top": null,
            "grid_column": null,
            "overflow_y": null,
            "overflow_x": null,
            "grid_auto_flow": null,
            "grid_area": null,
            "grid_template_columns": null,
            "flex": null,
            "_model_name": "LayoutModel",
            "justify_items": null,
            "grid_row": null,
            "max_height": null,
            "align_content": null,
            "visibility": null,
            "align_self": null,
            "height": null,
            "min_height": null,
            "padding": null,
            "grid_auto_rows": null,
            "grid_gap": null,
            "max_width": null,
            "order": null,
            "_view_module_version": "1.2.0",
            "grid_template_areas": null,
            "object_position": null,
            "object_fit": null,
            "grid_auto_columns": null,
            "margin": null,
            "display": "inline-flex",
            "left": null
          }
        },
        "d641babe50e447249f243dfc2b4783e8": {
          "model_module": "@jupyter-widgets/controls",
          "model_name": "FloatProgressModel",
          "state": {
            "_view_name": "ProgressView",
            "style": "IPY_MODEL_50bae6cde665404dabca69ba7b03d9ef",
            "_dom_classes": [],
            "description": "Test: 100%",
            "_model_name": "FloatProgressModel",
            "bar_style": "",
            "max": 249,
            "_view_module": "@jupyter-widgets/controls",
            "_model_module_version": "1.5.0",
            "value": 249,
            "_view_count": null,
            "_view_module_version": "1.5.0",
            "orientation": "horizontal",
            "min": 0,
            "description_tooltip": null,
            "_model_module": "@jupyter-widgets/controls",
            "layout": "IPY_MODEL_79e00745e90c49b4804859c2da42744d"
          }
        },
        "9472a91cd25e47f2bab2af3ff00e16e9": {
          "model_module": "@jupyter-widgets/controls",
          "model_name": "HTMLModel",
          "state": {
            "_view_name": "HTMLView",
            "style": "IPY_MODEL_9d4e4b2d6f954b97a5ed3000a0d9ecfb",
            "_dom_classes": [],
            "description": "",
            "_model_name": "HTMLModel",
            "placeholder": "​",
            "_view_module": "@jupyter-widgets/controls",
            "_model_module_version": "1.5.0",
            "value": " 249/249 [00:00&lt;00:00, 322.98it/s]",
            "_view_count": null,
            "_view_module_version": "1.5.0",
            "description_tooltip": null,
            "_model_module": "@jupyter-widgets/controls",
            "layout": "IPY_MODEL_54eac8561f214e92943813c6b6d4806e"
          }
        },
        "50bae6cde665404dabca69ba7b03d9ef": {
          "model_module": "@jupyter-widgets/controls",
          "model_name": "ProgressStyleModel",
          "state": {
            "_view_name": "StyleView",
            "_model_name": "ProgressStyleModel",
            "description_width": "initial",
            "_view_module": "@jupyter-widgets/base",
            "_model_module_version": "1.5.0",
            "_view_count": null,
            "_view_module_version": "1.2.0",
            "bar_color": null,
            "_model_module": "@jupyter-widgets/controls"
          }
        },
        "79e00745e90c49b4804859c2da42744d": {
          "model_module": "@jupyter-widgets/base",
          "model_name": "LayoutModel",
          "state": {
            "_view_name": "LayoutView",
            "grid_template_rows": null,
            "right": null,
            "justify_content": null,
            "_view_module": "@jupyter-widgets/base",
            "overflow": null,
            "_model_module_version": "1.2.0",
            "_view_count": null,
            "flex_flow": null,
            "width": null,
            "min_width": null,
            "border": null,
            "align_items": null,
            "bottom": null,
            "_model_module": "@jupyter-widgets/base",
            "top": null,
            "grid_column": null,
            "overflow_y": null,
            "overflow_x": null,
            "grid_auto_flow": null,
            "grid_area": null,
            "grid_template_columns": null,
            "flex": "2",
            "_model_name": "LayoutModel",
            "justify_items": null,
            "grid_row": null,
            "max_height": null,
            "align_content": null,
            "visibility": null,
            "align_self": null,
            "height": null,
            "min_height": null,
            "padding": null,
            "grid_auto_rows": null,
            "grid_gap": null,
            "max_width": null,
            "order": null,
            "_view_module_version": "1.2.0",
            "grid_template_areas": null,
            "object_position": null,
            "object_fit": null,
            "grid_auto_columns": null,
            "margin": null,
            "display": null,
            "left": null
          }
        },
        "9d4e4b2d6f954b97a5ed3000a0d9ecfb": {
          "model_module": "@jupyter-widgets/controls",
          "model_name": "DescriptionStyleModel",
          "state": {
            "_view_name": "StyleView",
            "_model_name": "DescriptionStyleModel",
            "description_width": "",
            "_view_module": "@jupyter-widgets/base",
            "_model_module_version": "1.5.0",
            "_view_count": null,
            "_view_module_version": "1.2.0",
            "_model_module": "@jupyter-widgets/controls"
          }
        },
        "54eac8561f214e92943813c6b6d4806e": {
          "model_module": "@jupyter-widgets/base",
          "model_name": "LayoutModel",
          "state": {
            "_view_name": "LayoutView",
            "grid_template_rows": null,
            "right": null,
            "justify_content": null,
            "_view_module": "@jupyter-widgets/base",
            "overflow": null,
            "_model_module_version": "1.2.0",
            "_view_count": null,
            "flex_flow": null,
            "width": null,
            "min_width": null,
            "border": null,
            "align_items": null,
            "bottom": null,
            "_model_module": "@jupyter-widgets/base",
            "top": null,
            "grid_column": null,
            "overflow_y": null,
            "overflow_x": null,
            "grid_auto_flow": null,
            "grid_area": null,
            "grid_template_columns": null,
            "flex": null,
            "_model_name": "LayoutModel",
            "justify_items": null,
            "grid_row": null,
            "max_height": null,
            "align_content": null,
            "visibility": null,
            "align_self": null,
            "height": null,
            "min_height": null,
            "padding": null,
            "grid_auto_rows": null,
            "grid_gap": null,
            "max_width": null,
            "order": null,
            "_view_module_version": "1.2.0",
            "grid_template_areas": null,
            "object_position": null,
            "object_fit": null,
            "grid_auto_columns": null,
            "margin": null,
            "display": null,
            "left": null
          }
        },
        "f169dc0df0c04b67b3239392a8c13ad7": {
          "model_module": "@jupyter-widgets/controls",
          "model_name": "HBoxModel",
          "state": {
            "_view_name": "HBoxView",
            "_dom_classes": [],
            "_model_name": "HBoxModel",
            "_view_module": "@jupyter-widgets/controls",
            "_model_module_version": "1.5.0",
            "_view_count": null,
            "_view_module_version": "1.5.0",
            "box_style": "",
            "layout": "IPY_MODEL_0ea492b0da9d4bc88a8645e592069206",
            "_model_module": "@jupyter-widgets/controls",
            "children": [
              "IPY_MODEL_68ea39178ce24d199ede2192a944bb64",
              "IPY_MODEL_3a05e3e05770467dbe0fb813910ccff9"
            ]
          }
        },
        "0ea492b0da9d4bc88a8645e592069206": {
          "model_module": "@jupyter-widgets/base",
          "model_name": "LayoutModel",
          "state": {
            "_view_name": "LayoutView",
            "grid_template_rows": null,
            "right": null,
            "justify_content": null,
            "_view_module": "@jupyter-widgets/base",
            "overflow": null,
            "_model_module_version": "1.2.0",
            "_view_count": null,
            "flex_flow": "row wrap",
            "width": "100%",
            "min_width": null,
            "border": null,
            "align_items": null,
            "bottom": null,
            "_model_module": "@jupyter-widgets/base",
            "top": null,
            "grid_column": null,
            "overflow_y": null,
            "overflow_x": null,
            "grid_auto_flow": null,
            "grid_area": null,
            "grid_template_columns": null,
            "flex": null,
            "_model_name": "LayoutModel",
            "justify_items": null,
            "grid_row": null,
            "max_height": null,
            "align_content": null,
            "visibility": null,
            "align_self": null,
            "height": null,
            "min_height": null,
            "padding": null,
            "grid_auto_rows": null,
            "grid_gap": null,
            "max_width": null,
            "order": null,
            "_view_module_version": "1.2.0",
            "grid_template_areas": null,
            "object_position": null,
            "object_fit": null,
            "grid_auto_columns": null,
            "margin": null,
            "display": "inline-flex",
            "left": null
          }
        },
        "68ea39178ce24d199ede2192a944bb64": {
          "model_module": "@jupyter-widgets/controls",
          "model_name": "FloatProgressModel",
          "state": {
            "_view_name": "ProgressView",
            "style": "IPY_MODEL_d027650dc123422fb51bfe2c8984a7d0",
            "_dom_classes": [],
            "description": "Test: 100%",
            "_model_name": "FloatProgressModel",
            "bar_style": "",
            "max": 249,
            "_view_module": "@jupyter-widgets/controls",
            "_model_module_version": "1.5.0",
            "value": 249,
            "_view_count": null,
            "_view_module_version": "1.5.0",
            "orientation": "horizontal",
            "min": 0,
            "description_tooltip": null,
            "_model_module": "@jupyter-widgets/controls",
            "layout": "IPY_MODEL_d14ce8ab25d04ea18650d8f7a840b212"
          }
        },
        "3a05e3e05770467dbe0fb813910ccff9": {
          "model_module": "@jupyter-widgets/controls",
          "model_name": "HTMLModel",
          "state": {
            "_view_name": "HTMLView",
            "style": "IPY_MODEL_4bcf6ce092b34e3b874b12506b86a6a7",
            "_dom_classes": [],
            "description": "",
            "_model_name": "HTMLModel",
            "placeholder": "​",
            "_view_module": "@jupyter-widgets/controls",
            "_model_module_version": "1.5.0",
            "value": " 249/249 [00:00&lt;00:00, 327.39it/s]",
            "_view_count": null,
            "_view_module_version": "1.5.0",
            "description_tooltip": null,
            "_model_module": "@jupyter-widgets/controls",
            "layout": "IPY_MODEL_ba024ce1cd0246bf87250c82f0f9ea82"
          }
        },
        "d027650dc123422fb51bfe2c8984a7d0": {
          "model_module": "@jupyter-widgets/controls",
          "model_name": "ProgressStyleModel",
          "state": {
            "_view_name": "StyleView",
            "_model_name": "ProgressStyleModel",
            "description_width": "initial",
            "_view_module": "@jupyter-widgets/base",
            "_model_module_version": "1.5.0",
            "_view_count": null,
            "_view_module_version": "1.2.0",
            "bar_color": null,
            "_model_module": "@jupyter-widgets/controls"
          }
        },
        "d14ce8ab25d04ea18650d8f7a840b212": {
          "model_module": "@jupyter-widgets/base",
          "model_name": "LayoutModel",
          "state": {
            "_view_name": "LayoutView",
            "grid_template_rows": null,
            "right": null,
            "justify_content": null,
            "_view_module": "@jupyter-widgets/base",
            "overflow": null,
            "_model_module_version": "1.2.0",
            "_view_count": null,
            "flex_flow": null,
            "width": null,
            "min_width": null,
            "border": null,
            "align_items": null,
            "bottom": null,
            "_model_module": "@jupyter-widgets/base",
            "top": null,
            "grid_column": null,
            "overflow_y": null,
            "overflow_x": null,
            "grid_auto_flow": null,
            "grid_area": null,
            "grid_template_columns": null,
            "flex": "2",
            "_model_name": "LayoutModel",
            "justify_items": null,
            "grid_row": null,
            "max_height": null,
            "align_content": null,
            "visibility": null,
            "align_self": null,
            "height": null,
            "min_height": null,
            "padding": null,
            "grid_auto_rows": null,
            "grid_gap": null,
            "max_width": null,
            "order": null,
            "_view_module_version": "1.2.0",
            "grid_template_areas": null,
            "object_position": null,
            "object_fit": null,
            "grid_auto_columns": null,
            "margin": null,
            "display": null,
            "left": null
          }
        },
        "4bcf6ce092b34e3b874b12506b86a6a7": {
          "model_module": "@jupyter-widgets/controls",
          "model_name": "DescriptionStyleModel",
          "state": {
            "_view_name": "StyleView",
            "_model_name": "DescriptionStyleModel",
            "description_width": "",
            "_view_module": "@jupyter-widgets/base",
            "_model_module_version": "1.5.0",
            "_view_count": null,
            "_view_module_version": "1.2.0",
            "_model_module": "@jupyter-widgets/controls"
          }
        },
        "ba024ce1cd0246bf87250c82f0f9ea82": {
          "model_module": "@jupyter-widgets/base",
          "model_name": "LayoutModel",
          "state": {
            "_view_name": "LayoutView",
            "grid_template_rows": null,
            "right": null,
            "justify_content": null,
            "_view_module": "@jupyter-widgets/base",
            "overflow": null,
            "_model_module_version": "1.2.0",
            "_view_count": null,
            "flex_flow": null,
            "width": null,
            "min_width": null,
            "border": null,
            "align_items": null,
            "bottom": null,
            "_model_module": "@jupyter-widgets/base",
            "top": null,
            "grid_column": null,
            "overflow_y": null,
            "overflow_x": null,
            "grid_auto_flow": null,
            "grid_area": null,
            "grid_template_columns": null,
            "flex": null,
            "_model_name": "LayoutModel",
            "justify_items": null,
            "grid_row": null,
            "max_height": null,
            "align_content": null,
            "visibility": null,
            "align_self": null,
            "height": null,
            "min_height": null,
            "padding": null,
            "grid_auto_rows": null,
            "grid_gap": null,
            "max_width": null,
            "order": null,
            "_view_module_version": "1.2.0",
            "grid_template_areas": null,
            "object_position": null,
            "object_fit": null,
            "grid_auto_columns": null,
            "margin": null,
            "display": null,
            "left": null
          }
        },
        "e1c07a276db84051b7e7f9228288dda9": {
          "model_module": "@jupyter-widgets/controls",
          "model_name": "HBoxModel",
          "state": {
            "_view_name": "HBoxView",
            "_dom_classes": [],
            "_model_name": "HBoxModel",
            "_view_module": "@jupyter-widgets/controls",
            "_model_module_version": "1.5.0",
            "_view_count": null,
            "_view_module_version": "1.5.0",
            "box_style": "",
            "layout": "IPY_MODEL_ac3569eab3a84f45ac3c6e8de35d662e",
            "_model_module": "@jupyter-widgets/controls",
            "children": [
              "IPY_MODEL_e6ef60f632c843d397200ea31d67cd10",
              "IPY_MODEL_0eaec2d642094ca994c9c59f42a54aef"
            ]
          }
        },
        "ac3569eab3a84f45ac3c6e8de35d662e": {
          "model_module": "@jupyter-widgets/base",
          "model_name": "LayoutModel",
          "state": {
            "_view_name": "LayoutView",
            "grid_template_rows": null,
            "right": null,
            "justify_content": null,
            "_view_module": "@jupyter-widgets/base",
            "overflow": null,
            "_model_module_version": "1.2.0",
            "_view_count": null,
            "flex_flow": "row wrap",
            "width": "100%",
            "min_width": null,
            "border": null,
            "align_items": null,
            "bottom": null,
            "_model_module": "@jupyter-widgets/base",
            "top": null,
            "grid_column": null,
            "overflow_y": null,
            "overflow_x": null,
            "grid_auto_flow": null,
            "grid_area": null,
            "grid_template_columns": null,
            "flex": null,
            "_model_name": "LayoutModel",
            "justify_items": null,
            "grid_row": null,
            "max_height": null,
            "align_content": null,
            "visibility": null,
            "align_self": null,
            "height": null,
            "min_height": null,
            "padding": null,
            "grid_auto_rows": null,
            "grid_gap": null,
            "max_width": null,
            "order": null,
            "_view_module_version": "1.2.0",
            "grid_template_areas": null,
            "object_position": null,
            "object_fit": null,
            "grid_auto_columns": null,
            "margin": null,
            "display": "inline-flex",
            "left": null
          }
        },
        "e6ef60f632c843d397200ea31d67cd10": {
          "model_module": "@jupyter-widgets/controls",
          "model_name": "FloatProgressModel",
          "state": {
            "_view_name": "ProgressView",
            "style": "IPY_MODEL_1f54406470a94d0cb7e475b0e9ecd3b3",
            "_dom_classes": [],
            "description": "Test: 100%",
            "_model_name": "FloatProgressModel",
            "bar_style": "",
            "max": 249,
            "_view_module": "@jupyter-widgets/controls",
            "_model_module_version": "1.5.0",
            "value": 249,
            "_view_count": null,
            "_view_module_version": "1.5.0",
            "orientation": "horizontal",
            "min": 0,
            "description_tooltip": null,
            "_model_module": "@jupyter-widgets/controls",
            "layout": "IPY_MODEL_ac47e2f03d244dad83b872b04f7033ed"
          }
        },
        "0eaec2d642094ca994c9c59f42a54aef": {
          "model_module": "@jupyter-widgets/controls",
          "model_name": "HTMLModel",
          "state": {
            "_view_name": "HTMLView",
            "style": "IPY_MODEL_fbce97a2236c4567bbbe1a1574c01c5b",
            "_dom_classes": [],
            "description": "",
            "_model_name": "HTMLModel",
            "placeholder": "​",
            "_view_module": "@jupyter-widgets/controls",
            "_model_module_version": "1.5.0",
            "value": " 249/249 [00:00&lt;00:00, 313.24it/s]",
            "_view_count": null,
            "_view_module_version": "1.5.0",
            "description_tooltip": null,
            "_model_module": "@jupyter-widgets/controls",
            "layout": "IPY_MODEL_91eaffae90e24b1d8fad21a91f0c90b8"
          }
        },
        "1f54406470a94d0cb7e475b0e9ecd3b3": {
          "model_module": "@jupyter-widgets/controls",
          "model_name": "ProgressStyleModel",
          "state": {
            "_view_name": "StyleView",
            "_model_name": "ProgressStyleModel",
            "description_width": "initial",
            "_view_module": "@jupyter-widgets/base",
            "_model_module_version": "1.5.0",
            "_view_count": null,
            "_view_module_version": "1.2.0",
            "bar_color": null,
            "_model_module": "@jupyter-widgets/controls"
          }
        },
        "ac47e2f03d244dad83b872b04f7033ed": {
          "model_module": "@jupyter-widgets/base",
          "model_name": "LayoutModel",
          "state": {
            "_view_name": "LayoutView",
            "grid_template_rows": null,
            "right": null,
            "justify_content": null,
            "_view_module": "@jupyter-widgets/base",
            "overflow": null,
            "_model_module_version": "1.2.0",
            "_view_count": null,
            "flex_flow": null,
            "width": null,
            "min_width": null,
            "border": null,
            "align_items": null,
            "bottom": null,
            "_model_module": "@jupyter-widgets/base",
            "top": null,
            "grid_column": null,
            "overflow_y": null,
            "overflow_x": null,
            "grid_auto_flow": null,
            "grid_area": null,
            "grid_template_columns": null,
            "flex": "2",
            "_model_name": "LayoutModel",
            "justify_items": null,
            "grid_row": null,
            "max_height": null,
            "align_content": null,
            "visibility": null,
            "align_self": null,
            "height": null,
            "min_height": null,
            "padding": null,
            "grid_auto_rows": null,
            "grid_gap": null,
            "max_width": null,
            "order": null,
            "_view_module_version": "1.2.0",
            "grid_template_areas": null,
            "object_position": null,
            "object_fit": null,
            "grid_auto_columns": null,
            "margin": null,
            "display": null,
            "left": null
          }
        },
        "fbce97a2236c4567bbbe1a1574c01c5b": {
          "model_module": "@jupyter-widgets/controls",
          "model_name": "DescriptionStyleModel",
          "state": {
            "_view_name": "StyleView",
            "_model_name": "DescriptionStyleModel",
            "description_width": "",
            "_view_module": "@jupyter-widgets/base",
            "_model_module_version": "1.5.0",
            "_view_count": null,
            "_view_module_version": "1.2.0",
            "_model_module": "@jupyter-widgets/controls"
          }
        },
        "91eaffae90e24b1d8fad21a91f0c90b8": {
          "model_module": "@jupyter-widgets/base",
          "model_name": "LayoutModel",
          "state": {
            "_view_name": "LayoutView",
            "grid_template_rows": null,
            "right": null,
            "justify_content": null,
            "_view_module": "@jupyter-widgets/base",
            "overflow": null,
            "_model_module_version": "1.2.0",
            "_view_count": null,
            "flex_flow": null,
            "width": null,
            "min_width": null,
            "border": null,
            "align_items": null,
            "bottom": null,
            "_model_module": "@jupyter-widgets/base",
            "top": null,
            "grid_column": null,
            "overflow_y": null,
            "overflow_x": null,
            "grid_auto_flow": null,
            "grid_area": null,
            "grid_template_columns": null,
            "flex": null,
            "_model_name": "LayoutModel",
            "justify_items": null,
            "grid_row": null,
            "max_height": null,
            "align_content": null,
            "visibility": null,
            "align_self": null,
            "height": null,
            "min_height": null,
            "padding": null,
            "grid_auto_rows": null,
            "grid_gap": null,
            "max_width": null,
            "order": null,
            "_view_module_version": "1.2.0",
            "grid_template_areas": null,
            "object_position": null,
            "object_fit": null,
            "grid_auto_columns": null,
            "margin": null,
            "display": null,
            "left": null
          }
        }
      }
    }
  },
  "cells": [
    {
      "cell_type": "markdown",
      "metadata": {
        "id": "Bz5jmrOp7cwZ",
        "colab_type": "text"
      },
      "source": [
        "03_TEXTCNN文本分类"
      ]
    },
    {
      "cell_type": "code",
      "metadata": {
        "id": "WhbkK7mx6uME",
        "colab_type": "code",
        "colab": {
          "base_uri": "https://localhost:8080/",
          "height": 377
        },
        "outputId": "0c428a54-8ebc-4685-e553-4f552c2496dc"
      },
      "source": [
        "# 显卡查看\n",
        "! nvidia-smi"
      ],
      "execution_count": 1,
      "outputs": [
        {
          "output_type": "stream",
          "text": [
            "Sun Jul  5 04:46:56 2020       \n",
            "+-----------------------------------------------------------------------------+\n",
            "| NVIDIA-SMI 450.36.06    Driver Version: 418.67       CUDA Version: 10.1     |\n",
            "|-------------------------------+----------------------+----------------------+\n",
            "| GPU  Name        Persistence-M| Bus-Id        Disp.A | Volatile Uncorr. ECC |\n",
            "| Fan  Temp  Perf  Pwr:Usage/Cap|         Memory-Usage | GPU-Util  Compute M. |\n",
            "|                               |                      |               MIG M. |\n",
            "|===============================+======================+======================|\n",
            "|   0  Tesla P4            Off  | 00000000:00:04.0 Off |                    0 |\n",
            "| N/A   54C    P8     8W /  75W |      0MiB /  7611MiB |      0%      Default |\n",
            "|                               |                      |                 ERR! |\n",
            "+-------------------------------+----------------------+----------------------+\n",
            "                                                                               \n",
            "+-----------------------------------------------------------------------------+\n",
            "| Processes:                                                                  |\n",
            "|  GPU   GI   CI        PID   Type   Process name                  GPU Memory |\n",
            "|        ID   ID                                                   Usage      |\n",
            "|=============================================================================|\n",
            "|  No running processes found                                                 |\n",
            "+-----------------------------------------------------------------------------+\n"
          ],
          "name": "stdout"
        }
      ]
    },
    {
      "cell_type": "code",
      "metadata": {
        "id": "zcMgqyLy7kqs",
        "colab_type": "code",
        "colab": {
          "base_uri": "https://localhost:8080/",
          "height": 521
        },
        "outputId": "4eddcea7-c99b-44a9-90f2-461d74e6bc05"
      },
      "source": [
        "# 依赖安装\n",
        "! pip install fastNLP"
      ],
      "execution_count": 2,
      "outputs": [
        {
          "output_type": "stream",
          "text": [
            "Requirement already satisfied: fastNLP in /usr/local/lib/python3.6/dist-packages (0.5.5)\n",
            "Requirement already satisfied: requests in /usr/local/lib/python3.6/dist-packages (from fastNLP) (2.23.0)\n",
            "Requirement already satisfied: prettytable>=0.7.2 in /usr/local/lib/python3.6/dist-packages (from fastNLP) (0.7.2)\n",
            "Requirement already satisfied: numpy>=1.14.2 in /usr/local/lib/python3.6/dist-packages (from fastNLP) (1.18.5)\n",
            "Requirement already satisfied: spacy in /usr/local/lib/python3.6/dist-packages (from fastNLP) (2.2.4)\n",
            "Requirement already satisfied: torch>=1.0.0 in /usr/local/lib/python3.6/dist-packages (from fastNLP) (1.5.1+cu101)\n",
            "Requirement already satisfied: nltk>=3.4.1 in /usr/local/lib/python3.6/dist-packages (from fastNLP) (3.5)\n",
            "Requirement already satisfied: regex!=2019.12.17 in /usr/local/lib/python3.6/dist-packages (from fastNLP) (2019.12.20)\n",
            "Requirement already satisfied: tqdm>=4.28.1 in /usr/local/lib/python3.6/dist-packages (from fastNLP) (4.41.1)\n",
            "Requirement already satisfied: idna<3,>=2.5 in /usr/local/lib/python3.6/dist-packages (from requests->fastNLP) (2.9)\n",
            "Requirement already satisfied: certifi>=2017.4.17 in /usr/local/lib/python3.6/dist-packages (from requests->fastNLP) (2020.6.20)\n",
            "Requirement already satisfied: chardet<4,>=3.0.2 in /usr/local/lib/python3.6/dist-packages (from requests->fastNLP) (3.0.4)\n",
            "Requirement already satisfied: urllib3!=1.25.0,!=1.25.1,<1.26,>=1.21.1 in /usr/local/lib/python3.6/dist-packages (from requests->fastNLP) (1.24.3)\n",
            "Requirement already satisfied: catalogue<1.1.0,>=0.0.7 in /usr/local/lib/python3.6/dist-packages (from spacy->fastNLP) (1.0.0)\n",
            "Requirement already satisfied: thinc==7.4.0 in /usr/local/lib/python3.6/dist-packages (from spacy->fastNLP) (7.4.0)\n",
            "Requirement already satisfied: setuptools in /usr/local/lib/python3.6/dist-packages (from spacy->fastNLP) (47.3.1)\n",
            "Requirement already satisfied: murmurhash<1.1.0,>=0.28.0 in /usr/local/lib/python3.6/dist-packages (from spacy->fastNLP) (1.0.2)\n",
            "Requirement already satisfied: wasabi<1.1.0,>=0.4.0 in /usr/local/lib/python3.6/dist-packages (from spacy->fastNLP) (0.7.0)\n",
            "Requirement already satisfied: srsly<1.1.0,>=1.0.2 in /usr/local/lib/python3.6/dist-packages (from spacy->fastNLP) (1.0.2)\n",
            "Requirement already satisfied: cymem<2.1.0,>=2.0.2 in /usr/local/lib/python3.6/dist-packages (from spacy->fastNLP) (2.0.3)\n",
            "Requirement already satisfied: blis<0.5.0,>=0.4.0 in /usr/local/lib/python3.6/dist-packages (from spacy->fastNLP) (0.4.1)\n",
            "Requirement already satisfied: preshed<3.1.0,>=3.0.2 in /usr/local/lib/python3.6/dist-packages (from spacy->fastNLP) (3.0.2)\n",
            "Requirement already satisfied: plac<1.2.0,>=0.9.6 in /usr/local/lib/python3.6/dist-packages (from spacy->fastNLP) (1.1.3)\n",
            "Requirement already satisfied: future in /usr/local/lib/python3.6/dist-packages (from torch>=1.0.0->fastNLP) (0.16.0)\n",
            "Requirement already satisfied: joblib in /usr/local/lib/python3.6/dist-packages (from nltk>=3.4.1->fastNLP) (0.15.1)\n",
            "Requirement already satisfied: click in /usr/local/lib/python3.6/dist-packages (from nltk>=3.4.1->fastNLP) (7.1.2)\n",
            "Requirement already satisfied: importlib-metadata>=0.20; python_version < \"3.8\" in /usr/local/lib/python3.6/dist-packages (from catalogue<1.1.0,>=0.0.7->spacy->fastNLP) (1.6.1)\n",
            "Requirement already satisfied: zipp>=0.5 in /usr/local/lib/python3.6/dist-packages (from importlib-metadata>=0.20; python_version < \"3.8\"->catalogue<1.1.0,>=0.0.7->spacy->fastNLP) (3.1.0)\n"
          ],
          "name": "stdout"
        }
      ]
    },
    {
      "cell_type": "markdown",
      "metadata": {
        "id": "p3kkh6sg7td1",
        "colab_type": "text"
      },
      "source": [
        "加载数据集"
      ]
    },
    {
      "cell_type": "code",
      "metadata": {
        "id": "lFCBRxT77kt0",
        "colab_type": "code",
        "colab": {
          "base_uri": "https://localhost:8080/",
          "height": 35
        },
        "outputId": "db28910b-7957-4e01-a415-f1c05c2b4e3e"
      },
      "source": [
        "import sys\n",
        "\n",
        "from fastNLP.core import Const\n",
        "\n",
        "sys.path.insert(0, '/content/drive/My Drive/my_framework/qyt_clue/')  # 定义搜索路径的优先顺序，序号从0开始，表示最大优先级\n",
        "\n",
        "import myClue  # noqa\n",
        "print('myClue module path :{}'.format(myClue.__file__))  # 输出测试模块文件位置\n",
        "from myClue.core import logger  # noqa\n",
        "from myClue.core.utils import print_data_bundle  # noqa\n",
        "from myClue.tools.serialize import save_serialize_obj  # noqa\n",
        "from myClue.loader.classification import THUCNewsLoader  # noqa\n",
        "from myClue.pipe.classification import THUCNewsPipe  # noqa"
      ],
      "execution_count": 3,
      "outputs": [
        {
          "output_type": "stream",
          "text": [
            "myClue module path :/content/drive/My Drive/my_framework/qyt_clue/myClue/__init__.py\n"
          ],
          "name": "stdout"
        }
      ]
    },
    {
      "cell_type": "code",
      "metadata": {
        "id": "4jrt5zlY7kxF",
        "colab_type": "code",
        "colab": {}
      },
      "source": [
        "train_file_config = {\n",
        "        'train': '/content/drive/My Drive/game/UCAS_NLP_TC/data_03_50words_split/traindata.txt',\n",
        "        'dev': '/content/drive/My Drive/game/UCAS_NLP_TC/data_03_50words_split/devdata.txt',\n",
        "    }"
      ],
      "execution_count": 4,
      "outputs": []
    },
    {
      "cell_type": "code",
      "metadata": {
        "id": "A5HarEg57kz9",
        "colab_type": "code",
        "colab": {
          "base_uri": "https://localhost:8080/",
          "height": 1000
        },
        "outputId": "5f8b36bf-8e21-45f4-bef3-ce32f5ad07c5"
      },
      "source": [
        "logger.info('数据加载')\n",
        "data_loader = THUCNewsLoader()\n",
        "data_bundle = data_loader.load(train_file_config)\n",
        "print_data_bundle(data_bundle)\n",
        "logger.info('数据预处理')\n",
        "data_pipe = THUCNewsPipe(tokenizer='white_space')\n",
        "data_bundle = data_pipe.process(data_bundle)\n",
        "data_bundle.rename_field(field_name=Const.CHAR_INPUT, new_field_name=Const.INPUT, ignore_miss_dataset=True, rename_vocab=True)\n",
        "print_data_bundle(data_bundle)"
      ],
      "execution_count": 5,
      "outputs": [
        {
          "output_type": "stream",
          "text": [
            "2020-07-05 04:47:06 I [<ipython-input-5-d23eb2358db5>:1] 数据加载\n",
            "2020-07-05 04:47:07 I [utils.py:16] dataset name : train\n",
            "2020-07-05 04:47:07 I [utils.py:17] dataset len : 40227\n",
            "2020-07-05 04:47:07 I [utils.py:18] dataset example : \n",
            "2020-07-05 04:47:07 I [utils.py:19] \n",
            "+-------------------------------------------+-------------+\n",
            "| raw_chars                                 | target      |\n",
            "+-------------------------------------------+-------------+\n",
            "| 近日 ， 胡杏儿 以 品牌 挚友 及 公益 大... | EnterSports |\n",
            "| 刚刚 杀青 ， 片 中 与 古天乐 、 张智霖... | EnterSports |\n",
            "| 虎 扑 1月 14日 讯 根据 《 世界 体育报...  | EnterSports |\n",
            "| 的 球员 ， 而且 拉比奥 也 即将 加盟 。... | EnterSports |\n",
            "| 奥拉 也 是 一样 的 情况 。 该 记者 认...  | EnterSports |\n",
            "+-------------------------------------------+-------------+\n",
            "2020-07-05 04:47:07 I [utils.py:20] dataset 输出各个field的被设置成input和target的情况 : \n",
            "2020-07-05 04:47:07 I [utils.py:21] \n",
            "+-------------+-----------+--------+\n",
            "| field_names | raw_chars | target |\n",
            "+-------------+-----------+--------+\n",
            "|   is_input  |   False   | False  |\n",
            "|  is_target  |   False   | False  |\n",
            "| ignore_type |           |        |\n",
            "|  pad_value  |           |        |\n",
            "+-------------+-----------+--------+\n",
            "2020-07-05 04:47:07 I [utils.py:16] dataset name : dev\n",
            "2020-07-05 04:47:07 I [utils.py:17] dataset len : 7949\n",
            "2020-07-05 04:47:07 I [utils.py:18] dataset example : \n",
            "2020-07-05 04:47:07 I [utils.py:19] \n",
            "+-------------------------------------------+-------------+\n",
            "| raw_chars                                 | target      |\n",
            "+-------------------------------------------+-------------+\n",
            "| 虎 扑 1月 13日 讯 在 魔术 与 凯尔特人...  | EnterSports |\n",
            "| 刘国梁 接替 蔡振华 当选 中国 乒协 掌门... | EnterSports |\n",
            "| 当晚 ， 生性 豪爽 的 郭斌 不 崇洋媚外...  | EnterSports |\n",
            "| 蛋形 表情 图 ） 。 ” 在 很多 家庭 和...   | EnterSports |\n",
            "| 的 节日 还 过 不 完 呢 ， 洋 节日 一边... | EnterSports |\n",
            "+-------------------------------------------+-------------+\n",
            "2020-07-05 04:47:07 I [utils.py:20] dataset 输出各个field的被设置成input和target的情况 : \n",
            "2020-07-05 04:47:07 I [utils.py:21] \n",
            "+-------------+-----------+--------+\n",
            "| field_names | raw_chars | target |\n",
            "+-------------+-----------+--------+\n",
            "|   is_input  |   False   | False  |\n",
            "|  is_target  |   False   | False  |\n",
            "| ignore_type |           |        |\n",
            "|  pad_value  |           |        |\n",
            "+-------------+-----------+--------+\n",
            "2020-07-05 04:47:07 I [<ipython-input-5-d23eb2358db5>:5] 数据预处理\n"
          ],
          "name": "stderr"
        },
        {
          "output_type": "stream",
          "text": [
            "+-------------+-----------+--------+\n",
            "| field_names | raw_chars | target |\n",
            "+-------------+-----------+--------+\n",
            "|   is_input  |   False   | False  |\n",
            "|  is_target  |   False   | False  |\n",
            "| ignore_type |           |        |\n",
            "|  pad_value  |           |        |\n",
            "+-------------+-----------+--------+\n",
            "+-------------+-----------+--------+\n",
            "| field_names | raw_chars | target |\n",
            "+-------------+-----------+--------+\n",
            "|   is_input  |   False   | False  |\n",
            "|  is_target  |   False   | False  |\n",
            "| ignore_type |           |        |\n",
            "|  pad_value  |           |        |\n",
            "+-------------+-----------+--------+\n"
          ],
          "name": "stdout"
        },
        {
          "output_type": "stream",
          "text": [
            "2020-07-05 04:47:16 I [utils.py:16] dataset name : train\n",
            "2020-07-05 04:47:16 I [utils.py:17] dataset len : 40227\n",
            "2020-07-05 04:47:16 I [utils.py:18] dataset example : \n",
            "2020-07-05 04:47:16 I [utils.py:19] \n",
            "+--------------------+--------+--------------------+---------+--------------------+\n",
            "| raw_chars          | target | chars              | seq_len | words              |\n",
            "+--------------------+--------+--------------------+---------+--------------------+\n",
            "| 近日 ， 胡杏儿 ... | 4      | ['近日', '，', ... | 50      | [692, 2, 24218,... |\n",
            "| 刚刚 杀青 ， 片... | 4      | ['刚刚', '杀青'... | 42      | [1353, 9959, 2,... |\n",
            "| 虎 扑 1月 14日 ... | 4      | ['虎', '扑', '1... | 50      | [2606, 3869, 26... |\n",
            "| 的 球员 ， 而且... | 4      | ['的', '球员', ... | 50      | [3, 708, 2, 378... |\n",
            "| 奥拉 也 是 一样... | 4      | ['奥拉', '也', ... | 24      | [35057, 16, 6, ... |\n",
            "+--------------------+--------+--------------------+---------+--------------------+\n",
            "2020-07-05 04:47:16 I [utils.py:20] dataset 输出各个field的被设置成input和target的情况 : \n",
            "2020-07-05 04:47:16 I [utils.py:21] \n",
            "+-------------+-----------+--------+-----------+---------+-------+\n",
            "| field_names | raw_chars | target | raw_words | seq_len | words |\n",
            "+-------------+-----------+--------+-----------+---------+-------+\n",
            "|   is_input  |   False   | False  |   False   |   True  |  True |\n",
            "|  is_target  |   False   |  True  |   False   |  False  | False |\n",
            "| ignore_type |           | False  |           |  False  | False |\n",
            "|  pad_value  |           |   0    |           |    0    |   0   |\n",
            "+-------------+-----------+--------+-----------+---------+-------+\n",
            "2020-07-05 04:47:16 I [utils.py:16] dataset name : dev\n",
            "2020-07-05 04:47:16 I [utils.py:17] dataset len : 7949\n",
            "2020-07-05 04:47:16 I [utils.py:18] dataset example : \n",
            "2020-07-05 04:47:16 I [utils.py:19] \n",
            "+---------------------+--------+---------------------+---------+--------------------+\n",
            "| raw_chars           | target | chars               | seq_len | words              |\n",
            "+---------------------+--------+---------------------+---------+--------------------+\n",
            "| 虎 扑 1月 13日 ...  | 4      | ['虎', '扑', '1...  | 46      | [2606, 3869, 26... |\n",
            "| 刘国梁 接替 蔡振... | 4      | ['刘国梁', '接替... | 50      | [19092, 7935, 2... |\n",
            "| 当晚 ， 生性 豪...  | 4      | ['当晚', '，', ...  | 50      | [4063, 2, 39298... |\n",
            "| 蛋形 表情 图 ）...  | 4      | ['蛋形', '表情'...  | 50      | [93840, 3565, 9... |\n",
            "| 的 节日 还 过 不... | 4      | ['的', '节日', ...  | 50      | [3, 6512, 32, 1... |\n",
            "+---------------------+--------+---------------------+---------+--------------------+\n",
            "2020-07-05 04:47:16 I [utils.py:20] dataset 输出各个field的被设置成input和target的情况 : \n",
            "2020-07-05 04:47:16 I [utils.py:21] \n",
            "+-------------+-----------+--------+-----------+---------+-------+\n",
            "| field_names | raw_chars | target | raw_words | seq_len | words |\n",
            "+-------------+-----------+--------+-----------+---------+-------+\n",
            "|   is_input  |   False   | False  |   False   |   True  |  True |\n",
            "|  is_target  |   False   |  True  |   False   |  False  | False |\n",
            "| ignore_type |           | False  |           |  False  | False |\n",
            "|  pad_value  |           |   0    |           |    0    |   0   |\n",
            "+-------------+-----------+--------+-----------+---------+-------+\n"
          ],
          "name": "stderr"
        },
        {
          "output_type": "stream",
          "text": [
            "+-------------+-----------+--------+-----------+---------+-------+\n",
            "| field_names | raw_chars | target | raw_words | seq_len | words |\n",
            "+-------------+-----------+--------+-----------+---------+-------+\n",
            "|   is_input  |   False   | False  |   False   |   True  |  True |\n",
            "|  is_target  |   False   |  True  |   False   |  False  | False |\n",
            "| ignore_type |           | False  |           |  False  | False |\n",
            "|  pad_value  |           |   0    |           |    0    |   0   |\n",
            "+-------------+-----------+--------+-----------+---------+-------+\n",
            "+-------------+-----------+--------+-----------+---------+-------+\n",
            "| field_names | raw_chars | target | raw_words | seq_len | words |\n",
            "+-------------+-----------+--------+-----------+---------+-------+\n",
            "|   is_input  |   False   | False  |   False   |   True  |  True |\n",
            "|  is_target  |   False   |  True  |   False   |  False  | False |\n",
            "| ignore_type |           | False  |           |  False  | False |\n",
            "|  pad_value  |           |   0    |           |    0    |   0   |\n",
            "+-------------+-----------+--------+-----------+---------+-------+\n"
          ],
          "name": "stdout"
        }
      ]
    },
    {
      "cell_type": "markdown",
      "metadata": {
        "id": "soZkpPTORW-V",
        "colab_type": "text"
      },
      "source": [
        "模型训练"
      ]
    },
    {
      "cell_type": "code",
      "metadata": {
        "id": "jt5QV3xF7k28",
        "colab_type": "code",
        "colab": {}
      },
      "source": [
        "import os\n",
        "import sys\n",
        "import time\n",
        "\n",
        "import torch\n",
        "\n",
        "from fastNLP import Const\n",
        "from fastNLP.embeddings import StaticEmbedding\n",
        "# from fastNLP.models import CNNText\n",
        "from fastNLP import Trainer\n",
        "from fastNLP import CrossEntropyLoss\n",
        "from torch.optim import Adam\n",
        "from fastNLP import Tester\n",
        "\n",
        "from myClue.core.metrics import ClassifyFPreRecMetric  # noqa\n",
        "from myClue.core.callback import EarlyStopCallback  # noqa\n",
        "from myClue.tools.serialize import save_serialize_obj  # noqa\n",
        "from myClue.tools.file import init_file_path  # noqa\n",
        "from myClue.models import CNNText  # noqa"
      ],
      "execution_count": 6,
      "outputs": []
    },
    {
      "cell_type": "code",
      "metadata": {
        "id": "bcEvjqFX7k6N",
        "colab_type": "code",
        "colab": {
          "base_uri": "https://localhost:8080/",
          "height": 1000,
          "referenced_widgets": [
            "8333c5de2a8f4617b77f1b920adf9092",
            "e643ceee88f44ec28cc2a8aba3d36cde",
            "335b3b2babcb4e7cbbed841d9e18a749",
            "e130d231f8734068a1f0ff43a76160bc",
            "f65d3aefd0564db9bacbe1a0d9562092",
            "bfbdf449a78b418c8ab44ddb706410d3",
            "55054d1274794bf3a42987a1253c57a7",
            "2947aeac95f648769cebff991485d573",
            "156cef3493b4494aaa6986a09d9646ea",
            "d6c3ffcd2b484b7e8e7f5ef85f4354bd",
            "e96ffc111d8d47b9b18462171a2eba48",
            "3d43e6d6685f4ac08e3d245227510c90",
            "cfaf854c27c841ae950e4bc80cb1e44c",
            "8943535ab3a0461098da82f176d4e2a5",
            "843769882c104bb29f27f88c3a0b2647",
            "8ddf735e08c841e2b215a84868020b53",
            "1591cb5a647544608633e19989baf8bd",
            "cd8bfe5a5226485a9d5f4d88f84e4aa5",
            "1f02412d32214f6082783cac4a687dd3",
            "2874374d3e4b4f188d856f25e1fa37d9",
            "b961e486035441f7b62d67ae8b62c3b6",
            "f37a32fd989c4f43b0333e2f0e521d8b",
            "0f726ff84d9a4cf8b3eb83f4814f7e85",
            "0ccaa2eba4914e9dba732854ebf6729a",
            "6a5a3b25465146889cf726423eacb262",
            "5279e734e2da41dab59f805fa1ba5592",
            "15ad511215484c0fa9d1479f9652b37e",
            "097e7cdfd3624fdebbe94704cb05a2bc",
            "d16769c1ef414c9b9da2db349becf7b7",
            "4a539d15313a4723a568e108ab4d248f",
            "e1330f987d0644c1befc31e93be4fc46",
            "1f09161f50f7469db7049116fa95acea",
            "759198cc00654c0d9cadf09665b6a9f5",
            "0cae5b19e0a04f03870d87f627e03117",
            "0c9153a938d54473a1bc7ef795dfb99f",
            "8471e7dc44dc4ef4af7efea3d929771c",
            "f12161bc564b42289b760c03c113bf2d",
            "0e288b45668346b5beeb336b022a70f8",
            "616327cc5fe44324b78f8443630b9baa",
            "84073bb0567949a5966d598eafb01d60",
            "3726fc10825146759c8d59b30752076d",
            "73c3f263bc884ef0875cf23e3238995e",
            "fc95c72789514953b2317ae737ccdb59",
            "035bb0cebe6c4961928239980a6245dc",
            "1111a352aa2540b491a89900634d7ec4",
            "89011cc9863e484fa69c21523fa5a6e7",
            "bb0de3a7e520400892ceaafceed5d0b2",
            "f403e063569a48ebb1b71c970f0dd451",
            "f826b1291d3a445ab4803366d56637a7",
            "6db1890474c84994bcc24a307e9b9a47",
            "5b03d37e4324482c8a27a66716eeda72",
            "0c0a2816b6ae40b2baa0021400b97ce6",
            "70690685ba7e4387bf8a622397ec860f",
            "64270946306f4548991162c19a05f177",
            "fc99f26eafe24e57a98fb825e0ca037d",
            "ef2a0e0b59324413a9876edb9b2ffaa2",
            "cdd5a81fe280496da39035a915a2018d",
            "2f83106e09f44848953f9c7e98cf28c6",
            "df131b3d903e4732bab6ca31dea169ef",
            "dde8c4805c9540b8864a320b18fa6a19",
            "be46b542968a41bdb8fa2139f12ce5b0",
            "be77485b6fcd4abb9ca2816c6c98a927",
            "2b9fe2c203ea463c9d54b3493b825a7a",
            "164b472bcbce4d2bb6a9eb715ce970ee",
            "c51d34648ae64411a0a6bf02e0a379e6",
            "5247aefe6ccf481181e5796ac735f08d",
            "6a4394a8e0284bd19905eb096c154199",
            "7ba39feb6e5148bfa61fd273c9d97ab7",
            "1e7281f373fc4d0db1df94f2c50e5167",
            "3c0484410dd94d769bd713527c963eb9",
            "f3efa5bf174643f5a5944c6a9ec764fc",
            "15b60da5593348389e33d185921730ea",
            "42df46ae74064addab398c0c1b5c3d28",
            "5d2ddf03bf324d9cb90848f4e50ed5eb",
            "b10a42acf3cd4f818507648588753d75",
            "fb6f7b6ceb9845c4806583fb0283ca4c",
            "5c8ea4d2cf0a4b9a87414db8b08901bf",
            "f0cc280e4d93400d900ec98bcafdfcb7",
            "58c6a578635f4dd7bc9ed0dd6ce39775",
            "aea06f73d64b41cb8e01d27ffd138f50",
            "54595391221240c2b64d0fa91c2c6add",
            "a131b596b1854e29a0b6f75184916b38",
            "372bdd527d7446b791780c4a288d5b05",
            "1dd4df892b83494b93e4bc8e324284c0",
            "faa0bb6e3cb64e08ba3d83d6e36f7bf3",
            "b9b1a03e949c41e3a200ce44dd6da1a9",
            "77f18c9bd7fd48b3b746271c6788486b",
            "772eb1de468f43578df3e98a1f4bc665",
            "d5aa93222bfd48919c4d27da0683afa0",
            "6341d51fe0a14a15977c713a4f2383ee",
            "d641babe50e447249f243dfc2b4783e8",
            "9472a91cd25e47f2bab2af3ff00e16e9",
            "50bae6cde665404dabca69ba7b03d9ef",
            "79e00745e90c49b4804859c2da42744d",
            "9d4e4b2d6f954b97a5ed3000a0d9ecfb",
            "54eac8561f214e92943813c6b6d4806e",
            "f169dc0df0c04b67b3239392a8c13ad7",
            "0ea492b0da9d4bc88a8645e592069206",
            "68ea39178ce24d199ede2192a944bb64",
            "3a05e3e05770467dbe0fb813910ccff9",
            "d027650dc123422fb51bfe2c8984a7d0",
            "d14ce8ab25d04ea18650d8f7a840b212",
            "4bcf6ce092b34e3b874b12506b86a6a7",
            "ba024ce1cd0246bf87250c82f0f9ea82",
            "e1c07a276db84051b7e7f9228288dda9",
            "ac3569eab3a84f45ac3c6e8de35d662e",
            "e6ef60f632c843d397200ea31d67cd10",
            "0eaec2d642094ca994c9c59f42a54aef",
            "1f54406470a94d0cb7e475b0e9ecd3b3",
            "ac47e2f03d244dad83b872b04f7033ed",
            "fbce97a2236c4567bbbe1a1574c01c5b",
            "91eaffae90e24b1d8fad21a91f0c90b8"
          ]
        },
        "outputId": "81e1fd6b-56e1-4d11-e114-964ffc0645f3"
      },
      "source": [
        "model_path = '/content/drive/My Drive/game/UCAS_NLP_TC/models/03_train_textcnn_words_split'\n",
        "init_file_path(model_path)\n",
        "logger.add_file_handler(os.path.join(model_path, 'log_{}.txt'.format(time.strftime(\"%Y-%m-%d-%H-%M-%S\", time.localtime()))))  # 日志写入文件\n",
        "char_vocab_pkl_file = os.path.join(model_path, 'vocab_char.pkl')\n",
        "target_vocab_pkl_file = os.path.join(model_path, 'target_char.pkl')\n",
        "logger.warn('获取词典')\n",
        "char_vocab = data_bundle.get_vocab('words')\n",
        "logger.info('char_vocab:{}'.format(char_vocab))\n",
        "target_vocab = data_bundle.get_vocab('target')\n",
        "logger.info('target_vocab:{}'.format(target_vocab))\n",
        "save_serialize_obj(char_vocab, char_vocab_pkl_file)\n",
        "save_serialize_obj(target_vocab, target_vocab_pkl_file)\n",
        "logger.info('词典序列化:{}'.format(char_vocab_pkl_file))\n",
        "logger.warn('选择预训练词向量')\n",
        "model_dir_or_name = '/content/drive/My Drive/data/embed/ctb.50d.vec'\n",
        "word2vec_embed = StaticEmbedding(char_vocab, model_dir_or_name=model_dir_or_name)\n",
        "logger.warn('神经网络模型')\n",
        "model = CNNText(word2vec_embed, num_classes=len(target_vocab))\n",
        "logger.info(model)\n",
        "logger.warn('训练超参数设定')\n",
        "loss = CrossEntropyLoss()\n",
        "optimizer = Adam([param for param in model.parameters() if param.requires_grad])\n",
        "# metric = AccuracyMetric()\n",
        "metric = ClassifyFPreRecMetric(tag_vocab=data_bundle.get_vocab(Const.TARGET), only_gross=False)  # 若only_gross=False, 即还会返回各个label的metric统计值\n",
        "device = 'cuda' if torch.cuda.is_available() else 'cpu'  # 如果有gpu的话在gpu上运行，训练速度会更快\n",
        "logger.info('device:{}'.format(device))\n",
        "batch_size = 32\n",
        "n_epochs = 200\n",
        "early_stopping = 10\n",
        "trainer = Trainer(\n",
        "    save_path=model_path,\n",
        "    train_data=data_bundle.get_dataset('train'),\n",
        "    model=model,\n",
        "    loss=loss,\n",
        "    optimizer=optimizer,\n",
        "    batch_size=batch_size,\n",
        "    n_epochs=n_epochs,\n",
        "    dev_data=data_bundle.get_dataset('dev'),\n",
        "    metrics=metric,\n",
        "    metric_key='f',\n",
        "    device=device,\n",
        "    callbacks=[EarlyStopCallback(early_stopping)])\n",
        "logger.warn('开始训练')\n",
        "trainer.train()"
      ],
      "execution_count": 7,
      "outputs": [
        {
          "output_type": "stream",
          "text": [
            "2020-07-05 04:47:17 \u001b[;33mW\u001b[0m [<ipython-input-7-8f4c01cf6b98>:6] 获取词典\n",
            "2020-07-05 04:47:17 I [<ipython-input-7-8f4c01cf6b98>:8] char_vocab:Vocabulary(['近日', '，', '胡杏儿', '以', '品牌']...)\n",
            "2020-07-05 04:47:17 I [<ipython-input-7-8f4c01cf6b98>:10] target_vocab:Vocabulary(['EnterSports', 'Economics', 'Technology', 'Military', 'Government']...)\n",
            "2020-07-05 04:47:17 I [<ipython-input-7-8f4c01cf6b98>:13] 词典序列化:/content/drive/My Drive/game/UCAS_NLP_TC/models/03_train_textcnn_words_split/vocab_char.pkl\n",
            "2020-07-05 04:47:17 \u001b[;33mW\u001b[0m [<ipython-input-7-8f4c01cf6b98>:14] 选择预训练词向量\n"
          ],
          "name": "stderr"
        },
        {
          "output_type": "stream",
          "text": [
            "Found 58398 out of 102455 words in the pre-training embedding.\n"
          ],
          "name": "stdout"
        },
        {
          "output_type": "stream",
          "text": [
            "/pytorch/aten/src/ATen/native/TensorFactories.cpp:361: UserWarning: Deprecation warning: In a future PyTorch release torch.full will no longer return tensors of floating dtype by default. Instead, a bool fill_value will return a tensor of torch.bool dtype, and an integral fill_value will return a tensor of torch.long dtype. Set the optional `dtype` or `out` arguments to suppress this warning.\n",
            "2020-07-05 04:47:23 \u001b[;33mW\u001b[0m [<ipython-input-7-8f4c01cf6b98>:17] 神经网络模型\n",
            "2020-07-05 04:47:23 I [<ipython-input-7-8f4c01cf6b98>:19] CNNText(\n",
            "  (embed): Embedding(\n",
            "    (embed): StaticEmbedding(\n",
            "      (dropout_layer): Dropout(p=0, inplace=False)\n",
            "      (embedding): Embedding(96392, 50, padding_idx=0)\n",
            "    )\n",
            "    (dropout): Dropout(p=0.0, inplace=False)\n",
            "  )\n",
            "  (conv_pool): ConvMaxpool(\n",
            "    (convs): ModuleList(\n",
            "      (0): Conv1d(50, 30, kernel_size=(1,), stride=(1,), bias=False)\n",
            "      (1): Conv1d(50, 40, kernel_size=(3,), stride=(1,), padding=(1,), bias=False)\n",
            "      (2): Conv1d(50, 50, kernel_size=(5,), stride=(1,), padding=(2,), bias=False)\n",
            "    )\n",
            "  )\n",
            "  (dropout): Dropout(p=0.5, inplace=False)\n",
            "  (fc): Linear(in_features=120, out_features=5, bias=True)\n",
            ")\n",
            "2020-07-05 04:47:23 \u001b[;33mW\u001b[0m [<ipython-input-7-8f4c01cf6b98>:20] 训练超参数设定\n",
            "2020-07-05 04:47:23 I [<ipython-input-7-8f4c01cf6b98>:26] device:cuda\n",
            "2020-07-05 04:47:26 \u001b[;33mW\u001b[0m [<ipython-input-7-8f4c01cf6b98>:43] 开始训练\n"
          ],
          "name": "stderr"
        },
        {
          "output_type": "stream",
          "text": [
            "input fields after batch(if batch size is 2):\n",
            "\tseq_len: (1)type:torch.Tensor (2)dtype:torch.int64, (3)shape:torch.Size([2]) \n",
            "\twords: (1)type:torch.Tensor (2)dtype:torch.int64, (3)shape:torch.Size([2, 50]) \n",
            "target fields after batch(if batch size is 2):\n",
            "\ttarget: (1)type:torch.Tensor (2)dtype:torch.int64, (3)shape:torch.Size([2]) \n",
            "\n",
            "training epochs started 2020-07-05-04-47-26-924614\n"
          ],
          "name": "stdout"
        },
        {
          "output_type": "display_data",
          "data": {
            "application/vnd.jupyter.widget-view+json": {
              "model_id": "8333c5de2a8f4617b77f1b920adf9092",
              "version_minor": 0,
              "version_major": 2
            },
            "text/plain": [
              "HBox(children=(FloatProgress(value=0.0, layout=Layout(flex='2'), max=251600.0), HTML(value='')), layout=Layout…"
            ]
          },
          "metadata": {
            "tags": []
          }
        },
        {
          "output_type": "display_data",
          "data": {
            "application/vnd.jupyter.widget-view+json": {
              "model_id": "156cef3493b4494aaa6986a09d9646ea",
              "version_minor": 0,
              "version_major": 2
            },
            "text/plain": [
              "HBox(children=(FloatProgress(value=0.0, layout=Layout(flex='2'), max=249.0), HTML(value='')), layout=Layout(di…"
            ]
          },
          "metadata": {
            "tags": []
          }
        },
        {
          "output_type": "stream",
          "text": [
            "\rEvaluate data in 0.78 seconds!\n"
          ],
          "name": "stdout"
        },
        {
          "output_type": "stream",
          "text": [
            "2020-07-05 04:47:38 \u001b[;33mW\u001b[0m [callback.py:38] ======epoch : 1 , early stopping : 0/10======\n",
            "2020-07-05 04:47:38 I [callback.py:40] metric_key : f, metric_value : 0.765439\n",
            "2020-07-05 04:47:38 I [callback.py:41] eval_result : \n",
            "{'ClassifyFPreRecMetric': {'f-Economics': 0.734206, 'pre-Economics': 0.653495, 'rec-Economics': 0.837662, 'f-Technology': 0.761177, 'pre-Technology': 0.678265, 'rec-Technology': 0.867182, 'f-Government': 0.636995, 'pre-Government': 0.529891, 'rec-Government': 0.798362, 'f-Military': 0.808922, 'pre-Military': 0.726302, 'rec-Military': 0.912752, 'f-EnterSports': 0.925521, 'pre-EnterSports': 0.911937, 'rec-EnterSports': 0.939516, 'f': 0.765439, 'pre': 0.683734, 'rec': 0.869322}}\n"
          ],
          "name": "stderr"
        },
        {
          "output_type": "stream",
          "text": [
            "\rEvaluation on dev at Epoch 1/200. Step:1258/251600: \n",
            "\rClassifyFPreRecMetric: f-Economics=0.734206, pre-Economics=0.653495, rec-Economics=0.837662, f-Technology=0.761177, pre-Technology=0.678265, rec-Technology=0.867182, f-Government=0.636995, pre-Government=0.529891, rec-Government=0.798362, f-Military=0.808922, pre-Military=0.726302, rec-Military=0.912752, f-EnterSports=0.925521, pre-EnterSports=0.911937, rec-EnterSports=0.939516, f=0.765439, pre=0.683734, rec=0.869322\n",
            "\n"
          ],
          "name": "stdout"
        },
        {
          "output_type": "display_data",
          "data": {
            "application/vnd.jupyter.widget-view+json": {
              "model_id": "1591cb5a647544608633e19989baf8bd",
              "version_minor": 0,
              "version_major": 2
            },
            "text/plain": [
              "HBox(children=(FloatProgress(value=0.0, layout=Layout(flex='2'), max=249.0), HTML(value='')), layout=Layout(di…"
            ]
          },
          "metadata": {
            "tags": []
          }
        },
        {
          "output_type": "stream",
          "text": [
            "\rEvaluate data in 0.74 seconds!\n"
          ],
          "name": "stdout"
        },
        {
          "output_type": "stream",
          "text": [
            "2020-07-05 04:47:49 \u001b[;33mW\u001b[0m [callback.py:38] ======epoch : 2 , early stopping : 0/10======\n",
            "2020-07-05 04:47:49 I [callback.py:40] metric_key : f, metric_value : 0.770682\n",
            "2020-07-05 04:47:49 I [callback.py:41] eval_result : \n",
            "{'ClassifyFPreRecMetric': {'f-Economics': 0.725, 'pre-Economics': 0.631712, 'rec-Economics': 0.850614, 'f-Technology': 0.768881, 'pre-Technology': 0.682804, 'rec-Technology': 0.879792, 'f-Government': 0.679348, 'pre-Government': 0.594429, 'rec-Government': 0.792572, 'f-Military': 0.80312, 'pre-Military': 0.721629, 'rec-Military': 0.90536, 'f-EnterSports': 0.928535, 'pre-EnterSports': 0.896282, 'rec-EnterSports': 0.963197, 'f': 0.770682, 'pre': 0.688514, 'rec': 0.87512}}\n"
          ],
          "name": "stderr"
        },
        {
          "output_type": "stream",
          "text": [
            "\rEvaluation on dev at Epoch 2/200. Step:2516/251600: \n",
            "\rClassifyFPreRecMetric: f-Economics=0.725, pre-Economics=0.631712, rec-Economics=0.850614, f-Technology=0.768881, pre-Technology=0.682804, rec-Technology=0.879792, f-Government=0.679348, pre-Government=0.594429, rec-Government=0.792572, f-Military=0.80312, pre-Military=0.721629, rec-Military=0.90536, f-EnterSports=0.928535, pre-EnterSports=0.896282, rec-EnterSports=0.963197, f=0.770682, pre=0.688514, rec=0.87512\n",
            "\n"
          ],
          "name": "stdout"
        },
        {
          "output_type": "display_data",
          "data": {
            "application/vnd.jupyter.widget-view+json": {
              "model_id": "6a5a3b25465146889cf726423eacb262",
              "version_minor": 0,
              "version_major": 2
            },
            "text/plain": [
              "HBox(children=(FloatProgress(value=0.0, layout=Layout(flex='2'), max=249.0), HTML(value='')), layout=Layout(di…"
            ]
          },
          "metadata": {
            "tags": []
          }
        },
        {
          "output_type": "stream",
          "text": [
            "2020-07-05 04:47:59 \u001b[;33mW\u001b[0m [callback.py:38] ======epoch : 3 , early stopping : 0/10======\n",
            "2020-07-05 04:47:59 I [callback.py:40] metric_key : f, metric_value : 0.760828\n",
            "2020-07-05 04:47:59 I [callback.py:41] eval_result : \n",
            "{'ClassifyFPreRecMetric': {'f-Economics': 0.74398, 'pre-Economics': 0.680851, 'rec-Economics': 0.820012, 'f-Technology': 0.749569, 'pre-Technology': 0.658094, 'rec-Technology': 0.87058, 'f-Government': 0.640099, 'pre-Government': 0.529212, 'rec-Government': 0.809771, 'f-Military': 0.785011, 'pre-Military': 0.692256, 'rec-Military': 0.906469, 'f-EnterSports': 0.927346, 'pre-EnterSports': 0.899217, 'rec-EnterSports': 0.957292, 'f': 0.760828, 'pre': 0.677318, 'rec': 0.867827}}\n"
          ],
          "name": "stderr"
        },
        {
          "output_type": "stream",
          "text": [
            "\rEvaluate data in 0.76 seconds!\n",
            "\rEvaluation on dev at Epoch 3/200. Step:3774/251600: \n",
            "\rClassifyFPreRecMetric: f-Economics=0.74398, pre-Economics=0.680851, rec-Economics=0.820012, f-Technology=0.749569, pre-Technology=0.658094, rec-Technology=0.87058, f-Government=0.640099, pre-Government=0.529212, rec-Government=0.809771, f-Military=0.785011, pre-Military=0.692256, rec-Military=0.906469, f-EnterSports=0.927346, pre-EnterSports=0.899217, rec-EnterSports=0.957292, f=0.760828, pre=0.677318, rec=0.867827\n",
            "\n"
          ],
          "name": "stdout"
        },
        {
          "output_type": "display_data",
          "data": {
            "application/vnd.jupyter.widget-view+json": {
              "model_id": "759198cc00654c0d9cadf09665b6a9f5",
              "version_minor": 0,
              "version_major": 2
            },
            "text/plain": [
              "HBox(children=(FloatProgress(value=0.0, layout=Layout(flex='2'), max=249.0), HTML(value='')), layout=Layout(di…"
            ]
          },
          "metadata": {
            "tags": []
          }
        },
        {
          "output_type": "stream",
          "text": [
            "2020-07-05 04:48:10 \u001b[;33mW\u001b[0m [callback.py:38] ======epoch : 4 , early stopping : 1/10======\n",
            "2020-07-05 04:48:10 I [callback.py:40] metric_key : f, metric_value : 0.752696\n",
            "2020-07-05 04:48:10 I [callback.py:41] eval_result : \n",
            "{'ClassifyFPreRecMetric': {'f-Economics': 0.754292, 'pre-Economics': 0.712259, 'rec-Economics': 0.801596, 'f-Technology': 0.714069, 'pre-Technology': 0.592537, 'rec-Technology': 0.898318, 'f-Government': 0.626337, 'pre-Government': 0.516984, 'rec-Government': 0.794363, 'f-Military': 0.785174, 'pre-Military': 0.692924, 'rec-Military': 0.905759, 'f-EnterSports': 0.923615, 'pre-EnterSports': 0.905088, 'rec-EnterSports': 0.942915, 'f': 0.752696, 'pre': 0.66738, 'rec': 0.863023}}\n"
          ],
          "name": "stderr"
        },
        {
          "output_type": "stream",
          "text": [
            "\rEvaluate data in 0.73 seconds!\n",
            "\rEvaluation on dev at Epoch 4/200. Step:5032/251600: \n",
            "\rClassifyFPreRecMetric: f-Economics=0.754292, pre-Economics=0.712259, rec-Economics=0.801596, f-Technology=0.714069, pre-Technology=0.592537, rec-Technology=0.898318, f-Government=0.626337, pre-Government=0.516984, rec-Government=0.794363, f-Military=0.785174, pre-Military=0.692924, rec-Military=0.905759, f-EnterSports=0.923615, pre-EnterSports=0.905088, rec-EnterSports=0.942915, f=0.752696, pre=0.66738, rec=0.863023\n",
            "\n"
          ],
          "name": "stdout"
        },
        {
          "output_type": "display_data",
          "data": {
            "application/vnd.jupyter.widget-view+json": {
              "model_id": "3726fc10825146759c8d59b30752076d",
              "version_minor": 0,
              "version_major": 2
            },
            "text/plain": [
              "HBox(children=(FloatProgress(value=0.0, layout=Layout(flex='2'), max=249.0), HTML(value='')), layout=Layout(di…"
            ]
          },
          "metadata": {
            "tags": []
          }
        },
        {
          "output_type": "stream",
          "text": [
            "2020-07-05 04:48:20 \u001b[;33mW\u001b[0m [callback.py:38] ======epoch : 5 , early stopping : 2/10======\n",
            "2020-07-05 04:48:20 I [callback.py:40] metric_key : f, metric_value : 0.745939\n",
            "2020-07-05 04:48:20 I [callback.py:41] eval_result : \n",
            "{'ClassifyFPreRecMetric': {'f-Economics': 0.72646, 'pre-Economics': 0.658561, 'rec-Economics': 0.809969, 'f-Technology': 0.702154, 'pre-Technology': 0.575391, 'rec-Technology': 0.900552, 'f-Government': 0.65129, 'pre-Government': 0.565897, 'rec-Government': 0.767035, 'f-Military': 0.786331, 'pre-Military': 0.698932, 'rec-Military': 0.898712, 'f-EnterSports': 0.920443, 'pre-EnterSports': 0.894325, 'rec-EnterSports': 0.948133, 'f': 0.745939, 'pre': 0.658573, 'rec': 0.86003}}\n"
          ],
          "name": "stderr"
        },
        {
          "output_type": "stream",
          "text": [
            "\rEvaluate data in 0.76 seconds!\n",
            "\rEvaluation on dev at Epoch 5/200. Step:6290/251600: \n",
            "\rClassifyFPreRecMetric: f-Economics=0.72646, pre-Economics=0.658561, rec-Economics=0.809969, f-Technology=0.702154, pre-Technology=0.575391, rec-Technology=0.900552, f-Government=0.65129, pre-Government=0.565897, rec-Government=0.767035, f-Military=0.786331, pre-Military=0.698932, rec-Military=0.898712, f-EnterSports=0.920443, pre-EnterSports=0.894325, rec-EnterSports=0.948133, f=0.745939, pre=0.658573, rec=0.86003\n",
            "\n"
          ],
          "name": "stdout"
        },
        {
          "output_type": "display_data",
          "data": {
            "application/vnd.jupyter.widget-view+json": {
              "model_id": "f826b1291d3a445ab4803366d56637a7",
              "version_minor": 0,
              "version_major": 2
            },
            "text/plain": [
              "HBox(children=(FloatProgress(value=0.0, layout=Layout(flex='2'), max=249.0), HTML(value='')), layout=Layout(di…"
            ]
          },
          "metadata": {
            "tags": []
          }
        },
        {
          "output_type": "stream",
          "text": [
            "2020-07-05 04:48:31 \u001b[;33mW\u001b[0m [callback.py:38] ======epoch : 6 , early stopping : 3/10======\n",
            "2020-07-05 04:48:31 I [callback.py:40] metric_key : f, metric_value : 0.748045\n",
            "2020-07-05 04:48:31 I [callback.py:41] eval_result : \n",
            "{'ClassifyFPreRecMetric': {'f-Economics': 0.71217, 'pre-Economics': 0.621074, 'rec-Economics': 0.834581, 'f-Technology': 0.747215, 'pre-Technology': 0.659607, 'rec-Technology': 0.86166, 'f-Government': 0.637485, 'pre-Government': 0.544158, 'rec-Government': 0.769452, 'f-Military': 0.770461, 'pre-Military': 0.675567, 'rec-Military': 0.896368, 'f-EnterSports': 0.922301, 'pre-EnterSports': 0.894325, 'rec-EnterSports': 0.952083, 'f': 0.748045, 'pre': 0.661844, 'rec': 0.860062}}\n"
          ],
          "name": "stderr"
        },
        {
          "output_type": "stream",
          "text": [
            "\rEvaluate data in 0.74 seconds!\n",
            "\rEvaluation on dev at Epoch 6/200. Step:7548/251600: \n",
            "\rClassifyFPreRecMetric: f-Economics=0.71217, pre-Economics=0.621074, rec-Economics=0.834581, f-Technology=0.747215, pre-Technology=0.659607, rec-Technology=0.86166, f-Government=0.637485, pre-Government=0.544158, rec-Government=0.769452, f-Military=0.770461, pre-Military=0.675567, rec-Military=0.896368, f-EnterSports=0.922301, pre-EnterSports=0.894325, rec-EnterSports=0.952083, f=0.748045, pre=0.661844, rec=0.860062\n",
            "\n"
          ],
          "name": "stdout"
        },
        {
          "output_type": "display_data",
          "data": {
            "application/vnd.jupyter.widget-view+json": {
              "model_id": "cdd5a81fe280496da39035a915a2018d",
              "version_minor": 0,
              "version_major": 2
            },
            "text/plain": [
              "HBox(children=(FloatProgress(value=0.0, layout=Layout(flex='2'), max=249.0), HTML(value='')), layout=Layout(di…"
            ]
          },
          "metadata": {
            "tags": []
          }
        },
        {
          "output_type": "stream",
          "text": [
            "2020-07-05 04:48:41 \u001b[;33mW\u001b[0m [callback.py:38] ======epoch : 7 , early stopping : 4/10======\n",
            "2020-07-05 04:48:41 I [callback.py:40] metric_key : f, metric_value : 0.743383\n",
            "2020-07-05 04:48:41 I [callback.py:41] eval_result : \n",
            "{'ClassifyFPreRecMetric': {'f-Economics': 0.717122, 'pre-Economics': 0.631206, 'rec-Economics': 0.830113, 'f-Technology': 0.714328, 'pre-Technology': 0.602118, 'rec-Technology': 0.877941, 'f-Government': 0.638197, 'pre-Government': 0.548234, 'rec-Government': 0.763482, 'f-Military': 0.779674, 'pre-Military': 0.701602, 'rec-Military': 0.877295, 'f-EnterSports': 0.924012, 'pre-EnterSports': 0.892368, 'rec-EnterSports': 0.957983, 'f': 0.743383, 'pre': 0.655428, 'rec': 0.858603}}\n"
          ],
          "name": "stderr"
        },
        {
          "output_type": "stream",
          "text": [
            "\rEvaluate data in 0.73 seconds!\n",
            "\rEvaluation on dev at Epoch 7/200. Step:8806/251600: \n",
            "\rClassifyFPreRecMetric: f-Economics=0.717122, pre-Economics=0.631206, rec-Economics=0.830113, f-Technology=0.714328, pre-Technology=0.602118, rec-Technology=0.877941, f-Government=0.638197, pre-Government=0.548234, rec-Government=0.763482, f-Military=0.779674, pre-Military=0.701602, rec-Military=0.877295, f-EnterSports=0.924012, pre-EnterSports=0.892368, rec-EnterSports=0.957983, f=0.743383, pre=0.655428, rec=0.858603\n",
            "\n"
          ],
          "name": "stdout"
        },
        {
          "output_type": "display_data",
          "data": {
            "application/vnd.jupyter.widget-view+json": {
              "model_id": "c51d34648ae64411a0a6bf02e0a379e6",
              "version_minor": 0,
              "version_major": 2
            },
            "text/plain": [
              "HBox(children=(FloatProgress(value=0.0, layout=Layout(flex='2'), max=249.0), HTML(value='')), layout=Layout(di…"
            ]
          },
          "metadata": {
            "tags": []
          }
        },
        {
          "output_type": "stream",
          "text": [
            "2020-07-05 04:48:52 \u001b[;33mW\u001b[0m [callback.py:38] ======epoch : 8 , early stopping : 5/10======\n",
            "2020-07-05 04:48:52 I [callback.py:40] metric_key : f, metric_value : 0.740023\n",
            "2020-07-05 04:48:52 I [callback.py:41] eval_result : \n",
            "{'ClassifyFPreRecMetric': {'f-Economics': 0.714775, 'pre-Economics': 0.634752, 'rec-Economics': 0.817885, 'f-Technology': 0.723144, 'pre-Technology': 0.626324, 'rec-Technology': 0.855372, 'f-Government': 0.62172, 'pre-Government': 0.523098, 'rec-Government': 0.766169, 'f-Military': 0.771731, 'pre-Military': 0.681575, 'rec-Military': 0.889373, 'f-EnterSports': 0.920732, 'pre-EnterSports': 0.886497, 'rec-EnterSports': 0.957717, 'f': 0.740023, 'pre': 0.653164, 'rec': 0.853526}}\n"
          ],
          "name": "stderr"
        },
        {
          "output_type": "stream",
          "text": [
            "\rEvaluate data in 0.73 seconds!\n",
            "\rEvaluation on dev at Epoch 8/200. Step:10064/251600: \n",
            "\rClassifyFPreRecMetric: f-Economics=0.714775, pre-Economics=0.634752, rec-Economics=0.817885, f-Technology=0.723144, pre-Technology=0.626324, rec-Technology=0.855372, f-Government=0.62172, pre-Government=0.523098, rec-Government=0.766169, f-Military=0.771731, pre-Military=0.681575, rec-Military=0.889373, f-EnterSports=0.920732, pre-EnterSports=0.886497, rec-EnterSports=0.957717, f=0.740023, pre=0.653164, rec=0.853526\n",
            "\n"
          ],
          "name": "stdout"
        },
        {
          "output_type": "display_data",
          "data": {
            "application/vnd.jupyter.widget-view+json": {
              "model_id": "42df46ae74064addab398c0c1b5c3d28",
              "version_minor": 0,
              "version_major": 2
            },
            "text/plain": [
              "HBox(children=(FloatProgress(value=0.0, layout=Layout(flex='2'), max=249.0), HTML(value='')), layout=Layout(di…"
            ]
          },
          "metadata": {
            "tags": []
          }
        },
        {
          "output_type": "stream",
          "text": [
            "2020-07-05 04:49:02 \u001b[;33mW\u001b[0m [callback.py:38] ======epoch : 9 , early stopping : 6/10======\n",
            "2020-07-05 04:49:02 I [callback.py:40] metric_key : f, metric_value : 0.74073\n",
            "2020-07-05 04:49:02 I [callback.py:41] eval_result : \n",
            "{'ClassifyFPreRecMetric': {'f-Economics': 0.716042, 'pre-Economics': 0.634245, 'rec-Economics': 0.822062, 'f-Technology': 0.717092, 'pre-Technology': 0.616742, 'rec-Technology': 0.856443, 'f-Government': 0.618019, 'pre-Government': 0.514946, 'rec-Government': 0.772681, 'f-Military': 0.786558, 'pre-Military': 0.710948, 'rec-Military': 0.880165, 'f-EnterSports': 0.916624, 'pre-EnterSports': 0.876712, 'rec-EnterSports': 0.960343, 'f': 0.74073, 'pre': 0.653416, 'rec': 0.854979}}\n"
          ],
          "name": "stderr"
        },
        {
          "output_type": "stream",
          "text": [
            "\rEvaluate data in 0.74 seconds!\n",
            "\rEvaluation on dev at Epoch 9/200. Step:11322/251600: \n",
            "\rClassifyFPreRecMetric: f-Economics=0.716042, pre-Economics=0.634245, rec-Economics=0.822062, f-Technology=0.717092, pre-Technology=0.616742, rec-Technology=0.856443, f-Government=0.618019, pre-Government=0.514946, rec-Government=0.772681, f-Military=0.786558, pre-Military=0.710948, rec-Military=0.880165, f-EnterSports=0.916624, pre-EnterSports=0.876712, rec-EnterSports=0.960343, f=0.74073, pre=0.653416, rec=0.854979\n",
            "\n"
          ],
          "name": "stdout"
        },
        {
          "output_type": "display_data",
          "data": {
            "application/vnd.jupyter.widget-view+json": {
              "model_id": "54595391221240c2b64d0fa91c2c6add",
              "version_minor": 0,
              "version_major": 2
            },
            "text/plain": [
              "HBox(children=(FloatProgress(value=0.0, layout=Layout(flex='2'), max=249.0), HTML(value='')), layout=Layout(di…"
            ]
          },
          "metadata": {
            "tags": []
          }
        },
        {
          "output_type": "stream",
          "text": [
            "2020-07-05 04:49:13 \u001b[;33mW\u001b[0m [callback.py:38] ======epoch : 10 , early stopping : 7/10======\n",
            "2020-07-05 04:49:13 I [callback.py:40] metric_key : f, metric_value : 0.736677\n",
            "2020-07-05 04:49:13 I [callback.py:41] eval_result : \n",
            "{'ClassifyFPreRecMetric': {'f-Economics': 0.716681, 'pre-Economics': 0.638804, 'rec-Economics': 0.816181, 'f-Technology': 0.724258, 'pre-Technology': 0.627837, 'rec-Technology': 0.85567, 'f-Government': 0.604005, 'pre-Government': 0.502038, 'rec-Government': 0.757949, 'f-Military': 0.766667, 'pre-Military': 0.675567, 'rec-Military': 0.886165, 'f-EnterSports': 0.918398, 'pre-EnterSports': 0.886497, 'rec-EnterSports': 0.952681, 'f': 0.736677, 'pre': 0.649516, 'rec': 0.850857}}\n"
          ],
          "name": "stderr"
        },
        {
          "output_type": "stream",
          "text": [
            "\rEvaluate data in 0.73 seconds!\n",
            "\rEvaluation on dev at Epoch 10/200. Step:12580/251600: \n",
            "\rClassifyFPreRecMetric: f-Economics=0.716681, pre-Economics=0.638804, rec-Economics=0.816181, f-Technology=0.724258, pre-Technology=0.627837, rec-Technology=0.85567, f-Government=0.604005, pre-Government=0.502038, rec-Government=0.757949, f-Military=0.766667, pre-Military=0.675567, rec-Military=0.886165, f-EnterSports=0.918398, pre-EnterSports=0.886497, rec-EnterSports=0.952681, f=0.736677, pre=0.649516, rec=0.850857\n",
            "\n"
          ],
          "name": "stdout"
        },
        {
          "output_type": "display_data",
          "data": {
            "application/vnd.jupyter.widget-view+json": {
              "model_id": "d5aa93222bfd48919c4d27da0683afa0",
              "version_minor": 0,
              "version_major": 2
            },
            "text/plain": [
              "HBox(children=(FloatProgress(value=0.0, layout=Layout(flex='2'), max=249.0), HTML(value='')), layout=Layout(di…"
            ]
          },
          "metadata": {
            "tags": []
          }
        },
        {
          "output_type": "stream",
          "text": [
            "2020-07-05 04:49:23 \u001b[;33mW\u001b[0m [callback.py:38] ======epoch : 11 , early stopping : 8/10======\n",
            "2020-07-05 04:49:23 I [callback.py:40] metric_key : f, metric_value : 0.731812\n",
            "2020-07-05 04:49:23 I [callback.py:41] eval_result : \n",
            "{'ClassifyFPreRecMetric': {'f-Economics': 0.705713, 'pre-Economics': 0.622594, 'rec-Economics': 0.814447, 'f-Technology': 0.719437, 'pre-Technology': 0.618759, 'rec-Technology': 0.859244, 'f-Government': 0.600326, 'pre-Government': 0.5, 'rec-Government': 0.75102, 'f-Military': 0.766742, 'pre-Military': 0.68024, 'rec-Military': 0.878448, 'f-EnterSports': 0.915443, 'pre-EnterSports': 0.88454, 'rec-EnterSports': 0.948583, 'f': 0.731812, 'pre': 0.643477, 'rec': 0.848259}}\n"
          ],
          "name": "stderr"
        },
        {
          "output_type": "stream",
          "text": [
            "\rEvaluate data in 0.73 seconds!\n",
            "\rEvaluation on dev at Epoch 11/200. Step:13838/251600: \n",
            "\rClassifyFPreRecMetric: f-Economics=0.705713, pre-Economics=0.622594, rec-Economics=0.814447, f-Technology=0.719437, pre-Technology=0.618759, rec-Technology=0.859244, f-Government=0.600326, pre-Government=0.5, rec-Government=0.75102, f-Military=0.766742, pre-Military=0.68024, rec-Military=0.878448, f-EnterSports=0.915443, pre-EnterSports=0.88454, rec-EnterSports=0.948583, f=0.731812, pre=0.643477, rec=0.848259\n",
            "\n"
          ],
          "name": "stdout"
        },
        {
          "output_type": "display_data",
          "data": {
            "application/vnd.jupyter.widget-view+json": {
              "model_id": "f169dc0df0c04b67b3239392a8c13ad7",
              "version_minor": 0,
              "version_major": 2
            },
            "text/plain": [
              "HBox(children=(FloatProgress(value=0.0, layout=Layout(flex='2'), max=249.0), HTML(value='')), layout=Layout(di…"
            ]
          },
          "metadata": {
            "tags": []
          }
        },
        {
          "output_type": "stream",
          "text": [
            "2020-07-05 04:49:34 \u001b[;33mW\u001b[0m [callback.py:38] ======epoch : 12 , early stopping : 9/10======\n",
            "2020-07-05 04:49:34 I [callback.py:40] metric_key : f, metric_value : 0.732465\n",
            "2020-07-05 04:49:34 I [callback.py:41] eval_result : \n",
            "{'ClassifyFPreRecMetric': {'f-Economics': 0.705544, 'pre-Economics': 0.622087, 'rec-Economics': 0.814864, 'f-Technology': 0.71914, 'pre-Technology': 0.624307, 'rec-Technology': 0.847945, 'f-Government': 0.61557, 'pre-Government': 0.52106, 'rec-Government': 0.751961, 'f-Military': 0.765844, 'pre-Military': 0.673565, 'rec-Military': 0.887423, 'f-EnterSports': 0.910984, 'pre-EnterSports': 0.856164, 'rec-EnterSports': 0.973304, 'f': 0.732465, 'pre': 0.643729, 'rec': 0.849577}}\n"
          ],
          "name": "stderr"
        },
        {
          "output_type": "stream",
          "text": [
            "\rEvaluate data in 0.73 seconds!\n",
            "\rEvaluation on dev at Epoch 12/200. Step:15096/251600: \n",
            "\rClassifyFPreRecMetric: f-Economics=0.705544, pre-Economics=0.622087, rec-Economics=0.814864, f-Technology=0.71914, pre-Technology=0.624307, rec-Technology=0.847945, f-Government=0.61557, pre-Government=0.52106, rec-Government=0.751961, f-Military=0.765844, pre-Military=0.673565, rec-Military=0.887423, f-EnterSports=0.910984, pre-EnterSports=0.856164, rec-EnterSports=0.973304, f=0.732465, pre=0.643729, rec=0.849577\n",
            "\n"
          ],
          "name": "stdout"
        },
        {
          "output_type": "display_data",
          "data": {
            "application/vnd.jupyter.widget-view+json": {
              "model_id": "e1c07a276db84051b7e7f9228288dda9",
              "version_minor": 0,
              "version_major": 2
            },
            "text/plain": [
              "HBox(children=(FloatProgress(value=0.0, layout=Layout(flex='2'), max=249.0), HTML(value='')), layout=Layout(di…"
            ]
          },
          "metadata": {
            "tags": []
          }
        },
        {
          "output_type": "stream",
          "text": [
            "2020-07-05 04:49:44 \u001b[;33mW\u001b[0m [callback.py:38] ======epoch : 13 , early stopping : 10/10======\n",
            "2020-07-05 04:49:44 I [callback.py:40] metric_key : f, metric_value : 0.731781\n",
            "2020-07-05 04:49:44 I [callback.py:41] eval_result : \n",
            "{'ClassifyFPreRecMetric': {'f-Economics': 0.712321, 'pre-Economics': 0.629686, 'rec-Economics': 0.819921, 'f-Technology': 0.708457, 'pre-Technology': 0.604135, 'rec-Technology': 0.856326, 'f-Government': 0.621429, 'pre-Government': 0.531929, 'rec-Government': 0.747137, 'f-Military': 0.756445, 'pre-Military': 0.656208, 'rec-Military': 0.892825, 'f-EnterSports': 0.915479, 'pre-EnterSports': 0.879648, 'rec-EnterSports': 0.954352, 'f': 0.731781, 'pre': 0.642345, 'rec': 0.85015}}\n",
            "2020-07-05 04:49:44 I [callback.py:46] reach early stopping patience, stop training.\n",
            "2020-07-05 04:49:44 I [callback.py:55] Early Stopping triggered in epoch 13!\n"
          ],
          "name": "stderr"
        },
        {
          "output_type": "stream",
          "text": [
            "\rEvaluate data in 0.75 seconds!\n",
            "\rReloaded the best model.\n",
            "\n",
            "In Epoch:2/Step:2516, got best dev performance:\n",
            "ClassifyFPreRecMetric: f-Economics=0.725, pre-Economics=0.631712, rec-Economics=0.850614, f-Technology=0.768881, pre-Technology=0.682804, rec-Technology=0.879792, f-Government=0.679348, pre-Government=0.594429, rec-Government=0.792572, f-Military=0.80312, pre-Military=0.721629, rec-Military=0.90536, f-EnterSports=0.928535, pre-EnterSports=0.896282, rec-EnterSports=0.963197, f=0.770682, pre=0.688514, rec=0.87512\n"
          ],
          "name": "stdout"
        },
        {
          "output_type": "execute_result",
          "data": {
            "text/plain": [
              "{'best_epoch': 2,\n",
              " 'best_eval': {'ClassifyFPreRecMetric': {'f': 0.770682,\n",
              "   'f-Economics': 0.725,\n",
              "   'f-EnterSports': 0.928535,\n",
              "   'f-Government': 0.679348,\n",
              "   'f-Military': 0.80312,\n",
              "   'f-Technology': 0.768881,\n",
              "   'pre': 0.688514,\n",
              "   'pre-Economics': 0.631712,\n",
              "   'pre-EnterSports': 0.896282,\n",
              "   'pre-Government': 0.594429,\n",
              "   'pre-Military': 0.721629,\n",
              "   'pre-Technology': 0.682804,\n",
              "   'rec': 0.87512,\n",
              "   'rec-Economics': 0.850614,\n",
              "   'rec-EnterSports': 0.963197,\n",
              "   'rec-Government': 0.792572,\n",
              "   'rec-Military': 0.90536,\n",
              "   'rec-Technology': 0.879792}},\n",
              " 'best_step': 2516,\n",
              " 'seconds': 137.82}"
            ]
          },
          "metadata": {
            "tags": []
          },
          "execution_count": 7
        }
      ]
    },
    {
      "cell_type": "markdown",
      "metadata": {
        "id": "LXISRakvRakP",
        "colab_type": "text"
      },
      "source": [
        "模型预测"
      ]
    },
    {
      "cell_type": "code",
      "metadata": {
        "id": "nwZuBgLnReyT",
        "colab_type": "code",
        "colab": {}
      },
      "source": [
        "import torch\n",
        "import os\n",
        "import codecs\n",
        "\n",
        "from fastNLP import Const\n",
        "from fastNLP import DataSet\n",
        "from fastNLP.core.predictor import Predictor\n",
        "from myClue.tools.serialize import load_serialize_obj  # noqa\n",
        "from myClue.tools.file import read_json_file_iter  # noqa"
      ],
      "execution_count": 8,
      "outputs": []
    },
    {
      "cell_type": "code",
      "metadata": {
        "id": "3XxSbBsESaSZ",
        "colab_type": "code",
        "colab": {
          "base_uri": "https://localhost:8080/",
          "height": 35
        },
        "outputId": "34f462a3-328e-4282-ef5c-2bc700d021fe"
      },
      "source": [
        "model_path = '/content/drive/My Drive/game/UCAS_NLP_TC/models/03_train_textcnn_words_split'\n",
        "char_vocab_pkl_file = os.path.join(model_path, 'vocab_char.pkl')\n",
        "target_vocab_pkl_file = os.path.join(model_path, 'target_char.pkl')\n",
        "# 获取最新模型文件\n",
        "model_list = [file_name for file_name in os.listdir(model_path) if 'best_' in file_name]\n",
        "model_list.sort(key=lambda fn: os.path.getmtime(os.path.join(model_path, fn)) if not os.path.isdir(os.path.join(model_path, fn)) else 0)\n",
        "model_name = os.path.join(model_path, model_list[-1])\n",
        "print(model_name)"
      ],
      "execution_count": 9,
      "outputs": [
        {
          "output_type": "stream",
          "text": [
            "/content/drive/My Drive/game/UCAS_NLP_TC/models/03_train_textcnn_words_split/best_CNNText_f_2020-07-05-04-47-26-924614\n"
          ],
          "name": "stdout"
        }
      ]
    },
    {
      "cell_type": "code",
      "metadata": {
        "id": "kcB1Jf-nSq6_",
        "colab_type": "code",
        "colab": {
          "base_uri": "https://localhost:8080/",
          "height": 449
        },
        "outputId": "6ff8d548-1d55-4238-cba6-7c293ef75cfa"
      },
      "source": [
        "logger.warn('开始加载模型')\n",
        "model = torch.load(model_name)\n",
        "model.eval()\n",
        "logger.info('模型加载完毕:\\n{}'.format(model))\n",
        "logger.warn('获取词典')\n",
        "char_vocab = load_serialize_obj(char_vocab_pkl_file)\n",
        "logger.info('char_vocab:{}'.format(char_vocab))\n",
        "target_vocab = load_serialize_obj(target_vocab_pkl_file)\n",
        "logger.info('target_vocab:{}'.format(target_vocab))\n",
        "logger.warn('加载测试数据')"
      ],
      "execution_count": 10,
      "outputs": [
        {
          "output_type": "stream",
          "text": [
            "2020-07-05 04:49:44 \u001b[;33mW\u001b[0m [<ipython-input-10-982aee047e1d>:1] 开始加载模型\n",
            "2020-07-05 04:49:44 I [<ipython-input-10-982aee047e1d>:4] 模型加载完毕:\n",
            "CNNText(\n",
            "  (embed): Embedding(\n",
            "    (embed): StaticEmbedding(\n",
            "      (dropout_layer): Dropout(p=0, inplace=False)\n",
            "      (embedding): Embedding(96392, 50, padding_idx=0)\n",
            "    )\n",
            "    (dropout): Dropout(p=0.0, inplace=False)\n",
            "  )\n",
            "  (conv_pool): ConvMaxpool(\n",
            "    (convs): ModuleList(\n",
            "      (0): Conv1d(50, 30, kernel_size=(1,), stride=(1,), bias=False)\n",
            "      (1): Conv1d(50, 40, kernel_size=(3,), stride=(1,), padding=(1,), bias=False)\n",
            "      (2): Conv1d(50, 50, kernel_size=(5,), stride=(1,), padding=(2,), bias=False)\n",
            "    )\n",
            "  )\n",
            "  (dropout): Dropout(p=0.5, inplace=False)\n",
            "  (fc): Linear(in_features=120, out_features=5, bias=True)\n",
            ")\n",
            "2020-07-05 04:49:44 \u001b[;33mW\u001b[0m [<ipython-input-10-982aee047e1d>:5] 获取词典\n",
            "2020-07-05 04:49:45 I [<ipython-input-10-982aee047e1d>:7] char_vocab:Vocabulary(['近日', '，', '胡杏儿', '以', '品牌']...)\n",
            "2020-07-05 04:49:45 I [<ipython-input-10-982aee047e1d>:9] target_vocab:Vocabulary(['EnterSports', 'Economics', 'Technology', 'Military', 'Government']...)\n",
            "2020-07-05 04:49:45 \u001b[;33mW\u001b[0m [<ipython-input-10-982aee047e1d>:10] 加载测试数据\n"
          ],
          "name": "stderr"
        }
      ]
    },
    {
      "cell_type": "code",
      "metadata": {
        "id": "fREHA_K_srIq",
        "colab_type": "code",
        "colab": {}
      },
      "source": [
        "predict_output_json_file_name = '/content/drive/My Drive/game/UCAS_NLP_TC/pred_data/03_train_textcnn_words_split.json'"
      ],
      "execution_count": 11,
      "outputs": []
    },
    {
      "cell_type": "code",
      "metadata": {
        "id": "9AzLEn3puXpj",
        "colab_type": "code",
        "colab": {}
      },
      "source": [
        "from myClue.tools.file import read_file_texts  # noqa\n",
        "def news_content_process(news_content):\n",
        "    \"\"\"\"数据转换处理\"\"\"\n",
        "    words = news_content.split(' ')\n",
        "    step = 50\n",
        "    splited_words = [words[i:i+step] for i in range(0, len(words), step)]\n",
        "    return splited_words"
      ],
      "execution_count": 12,
      "outputs": []
    },
    {
      "cell_type": "code",
      "metadata": {
        "id": "w7krDSRnSq99",
        "colab_type": "code",
        "colab": {
          "base_uri": "https://localhost:8080/",
          "height": 35
        },
        "outputId": "781fd432-15cf-449d-cb12-befae099ab09"
      },
      "source": [
        "import json\n",
        "from collections import defaultdict\n",
        "from tqdm import tqdm\n",
        "predictor = Predictor(model)\n",
        "with codecs.open(predict_output_json_file_name, mode='w', encoding='utf8') as fw_json:\n",
        "  texts = read_file_texts('/content/drive/My Drive/game/UCAS_NLP_TC/data/testdata.txt')\n",
        "  for row_text in tqdm(texts):\n",
        "    label, text = row_text.split('\\t')\n",
        "    news_content_words = news_content_process(text)\n",
        "    predict_label_dict = defaultdict(int)\n",
        "    for words in news_content_words:\n",
        "      if len(words) < 10:\n",
        "        continue\n",
        "      test_data = [words]\n",
        "      dataset = DataSet({Const.INPUT: test_data})\n",
        "      dataset.add_seq_len(field_name=Const.INPUT)\n",
        "      dataset.set_input(Const.INPUT, Const.INPUT_LEN)\n",
        "      char_vocab.index_dataset(dataset, field_name=Const.INPUT)\n",
        "      batch_output = predictor.predict(data=dataset, seq_len_field_name=Const.INPUT_LEN)\n",
        "      # topk概率\n",
        "      top_k_predict = batch_output.get('top_k_predict')[0]\n",
        "      top_k_prob = batch_output.get('top_k_prob')[0]\n",
        "      predict_results = list()\n",
        "      for label_id, prob in zip(top_k_predict, top_k_prob):\n",
        "        predict_label_dict[target_vocab.to_word(label_id)] += prob\n",
        "    # 组装成所需格式\n",
        "    row_data = {}\n",
        "    row_data['label'] = label\n",
        "    row_data['pred_label'] = predict_label_dict\n",
        "    row_data['text'] = text\n",
        "    fw_json.write('{}\\n'.format(json.dumps(row_data, ensure_ascii=False)))"
      ],
      "execution_count": 13,
      "outputs": [
        {
          "output_type": "stream",
          "text": [
            "100%|██████████| 500/500 [00:13<00:00, 35.72it/s]\n"
          ],
          "name": "stderr"
        }
      ]
    },
    {
      "cell_type": "code",
      "metadata": {
        "id": "_sPpVbMWSrBV",
        "colab_type": "code",
        "colab": {
          "base_uri": "https://localhost:8080/",
          "height": 73
        },
        "outputId": "4d9f8f22-92ea-4d43-850d-5548d0264207"
      },
      "source": [
        "! head -2 /content/drive/My\\ Drive/game/UCAS_NLP_TC/pred_data/03_train_textcnn_words_split.json"
      ],
      "execution_count": 14,
      "outputs": [
        {
          "output_type": "stream",
          "text": [
            "{\"label\": \"EnterSports\", \"pred_label\": {\"EnterSports\": 9.711933672428131, \"Government\": 0.04660993133438751, \"Military\": 0.17345445664250292, \"Technology\": 0.051570869003626285, \"Economics\": 0.016430955281975912}, \"text\": \"U23 亚洲杯 小组赛 第二 轮 ， 中国 U23 国家队 在 完全 占据场 上 优势 的 情况 下 ， 无奈 久 攻 不 下 ， 0-1 不敌 乌兹别克队 ， 小组赛 前 两 轮 一 胜 一 负 出场 前景 成疑 。 但 虽败犹荣 的 是 ， U23 国 足在 早早 丢球 的 情况 下 ， 并没有 自乱阵脚 ， 在 逆风 球 中 敢 打 敢 拼 ， 若 不 是 临门一脚 火候 欠缺 ， 或许 至少 能 拿到 一 分 。本 届 U23 亚洲杯 ， 在 首 战 对阵 阿曼 的 比赛 中 ， 中国队 U23 的 小伙子们 不但 取得 了 亚洲杯 历史 首 胜 ， 更 是 表现 出 难能可贵 的 精气 神儿 ， 令 人 耳目一新 。 第二 轮 对阵 乌兹别克斯坦 ， 中国 U23 国家队 迎来 真正 考验 ， 阿曼队 虽然 是 预选赛 力压 伊朗队 的 “ 黑马 ” ， 但 整体 实力 在 亚洲 难 言 一流 ， 而 乌兹别克斯坦 各 个 级别 的 国 字号 球队 都 是 中国队 的 老 对手 ， 实力 也 更 胜 一 筹 。果然 在 比赛 开始 后 仅仅 第14 分钟 ， 乌兹别克斯坦队 就 抓住 一 次 中国队 禁区 解围不当 率先 取得 领先 ， 但是 瑕不掩瑜 的 是 ， 中国队 U23 的 小伙子们 ， 在 踢 逆风 球 的 情况 下 ， 并没有 自乱阵脚 ， 而 是 展现 出 强烈 的 求 胜 欲望 ， 尤其是 下 半场 ， 比赛 的 局面 完全 被 中国队 所 掌控 ， 就 连 央视 评论员 都 感叹 这 是 一 场 中国队 的 进攻 演练 ， 无论是 杨立瑜 的 包抄 打门 ， 还是 韦世豪 的 长途 奔袭 后 的 劲射 ， 都 险些 洞穿 对手 大门 。虽然 遗憾 的 是 ， 中国队 最终 还 是 未 能 在 比赛 终场 哨声 响起 前 扳平 比分 ， 但是 从 比赛 场面 看 ， 中国队 的 年轻 小伙子们 还是 能 让 人 感受 到 一 种 积极 向上 、 敢 打 敢 拼 的 精气 神儿 ， 每 一 名 球员 都 能 为 胜利 这个 目标 心往 一 处 去 ， 劲往 一 处 使 ， 大胆 进攻 ， 渴望 胜利 ， 而 不 是 像 以往 那样 想 赢 怕 输 ， 畏手畏脚 。当然 ， 在 比赛 中 ， 年轻 的 中国 U23 国家队 还是 暴露 出 防守 中 存在 的 隐患 ， 两 场 比赛 过 后 中国队 需要 的 是 好好 总结 ， 正 如 央视 嘉宾 宫磊 所 言 ， 虽然 输球 了 ， 但 中国队 的 命运 还是 掌握在 自己 的 手 中 ， 毕竟 下轮 对阵 卡塔尔队 的 结果 将 直接 关系 到 中国 U23 国家队 能否 创造 历史 小组 出线 。 对于 这样 一 支 血气方刚 、 充满 自信 的 国家队 来 说 ， 只有 确保 出线 、 走 的 更 远 才 是 更 有利于 他们 成长 ， 因此 下轮 对阵 卡塔尔 的 比赛 才 是 对 U23 国家队 的 最大 考验 。（ 旺旺 ）\"}\n",
            "{\"label\": \"EnterSports\", \"pred_label\": {\"EnterSports\": 12.549133360385895, \"Technology\": 0.7191288798348978, \"Government\": 0.5188119522645138, \"Military\": 0.9565466158674099, \"Economics\": 0.25637916730192956}, \"text\": \"网易 娱乐 12月 19日 报道 白天 不 懂夜 的 黑 ， 就 像 秀发 飘飘 的 人 永远 不 懂 秃头 的 痛 。 这 恰恰 就 是 电影 《 天气 预爆 》 中 常 远 的 内心 独白 。 在 影片 最新 发布 的 视频 中 ， 常 远 对 镜 抹生 发水 不由 悲从中来 ， 本 想 着 听听 音乐 放松 心情 ， 却 没 想到 又 遭遇 了 一万 点 的 暴击 。 如此 “ 惨烈 ” 的 画面 让 人 又 心疼 又 想 笑 。与 常 远 的 “ 忧伤 ” 相比 ， “ 宝藏 老 男孩 ” 肖央 则 显得 十分 欢脱 ， 昨日 他 与 王小利 二 人 空降 千 人 广场 舞 ， 与 当地 的 阿姨们 一起 跳上 了 电影 《 天气 预爆 》 的 “ 最灵 许愿 舞 ” ， 场面 十分 热闹 喜庆 。 除 此 之外 ， 由 人气 歌手 冯提莫 惊喜 献声 的 电影 《 天气 预爆 》 插曲 《 Super Star 》 正式 上线 ， 经典 旋律 又 现 回忆 杀 。 电影 《 天气 预爆 》 现 已 开通 预售 通道 ， 将 于 本 周五 全 国 上映 。在 电影 《 天气 预爆 》 中 ， 常 远 饰演 的 雨神人 前 是 娱乐圈 风光 的 秀发 小 王子 ， 人 后 却 是 个 秃头 ， 要 偷偷 对着 镜子 抹生 发水 。 在 最 新 的 视频 中 ， 本 就 无法 接受 自己 秃头 命运 的 雨神 更 是 频繁 被 扎心 。 因为 他 原本 想 听首 歌 排解 心 中 苦闷 ， 没 成 想 每 首 歌 都 是 “ 青春 吹动 了 你 的 长发 ” “ 黑头发 飘 起来 飘 起来 ” ， 仿佛 时刻 提醒 他 没有 头发 的 事实 。 如此 “ 悲惨 ” 又 “ 巧合 ” 的 画面 让 人 心疼 的 同时 又 忍 不 住 笑 出声 来 。素有 “ 美 男子 ” 称号 的 常 远 此 次 放下 “ 偶像 包袱 ” 挑战 起 光头 形象 ， 出乎 许多 人 的 意料 。 就 连 常 远 自己 也 十分 新奇 表示 ： “ 这 也 是 他 从小 到 大 第一 次 以 光头 的 形象 示人 ， 还 挺 难得 的 。 ” 其实 在 电影 中 ， 除了 雨神常远 有 现代 人 普遍 存在 的 脱发 毛病 外 ， 其他 的 神仙 也 都 有 一些 “ 城市 病 ” 。 像 杜鹃 饰演 的 电母 ， 就 因 浑身 带 电 无法 和 人 接触 ， 久 而 久 之 就 有 了 “ 社交 恐惧症 ” 。 这些 鲜活 真实 的 神仙 形象 与 传统 印象 中的 神仙 截然 不同 ， 这 也 是 电影 《 天气 预爆 》 独特 的 立意 之 处 ， 让 所有 人 都 能 在 电影 中 找到 共鸣 。如果 形容 常 远 是 一 个 人 对 镜 流泪 的 寂寞 ， 那么 肖央 和 王小利 便 是 千人斗舞 的 狂欢 。 昨日 ， 肖央 和 王小利 空降 哈尔滨 广场 现场 ， 与 上 千 人 一起 跳 电影 《 天气 预爆 》 的 “ 最灵 许愿舞 ” 。 欢乐 的 曲风 、 动感 的 节奏 、 灵魂 的 舞步 瞬间 点燃 了 冰城 ， 让 在场 的 所有 人 都 非常 激动 。 这 已经 不 是 肖央 第一 次 给 大家 送上 惊喜 了 。 自 影片 开启路 演 以来 ， 肖央 就 变身 “ 人形 锦鲤 ” 一路 制造 欢乐 。 作为 贺岁 档 最 强 喜剧 ， 电影 《 天气 预爆 》 也 将 在 年末 为 大家 制造 十足 “ 笑料 ” ， 开 开心 心地 迎接 2019年 。在 电影 《 天气 预爆 》 中 ， 除了 有 欢笑 、 惊喜 外 ， 观众 还 能 切实 地 感受 到 一 波 回忆 杀 。 由 冯提 莫献声 的 影片 插曲 《 Super Star 》 今日 上线 。 “ 你 是 电 ， 你 是 光 ， 你 是 唯一 的 神话 ” 的 歌词 将 马乐 （ 肖央饰 ） 与 电母 （ 杜鹃饰 ） 的 感情 描绘 地 恰 如 其 分 ， 而 “ 我 只 爱 你 ， you are my super star ” 似乎 也 对 这 段 感情 有所 暗示 。 相信 当 歌曲 经典 的 前奏 一 响起 ， 观众们 一定 会 感慨 这一 波 旋律 回忆 杀 。贺岁 最 强 喜剧 《 天气 预爆 》 预售 已经 开启 ， 将 于 2018年 12月 21日 登陆 全 国 院线 。\"}\n"
          ],
          "name": "stdout"
        }
      ]
    },
    {
      "cell_type": "markdown",
      "metadata": {
        "id": "2uOkpNC6Rc4n",
        "colab_type": "text"
      },
      "source": [
        "结果评测"
      ]
    },
    {
      "cell_type": "code",
      "metadata": {
        "id": "DetGG7kb7k9c",
        "colab_type": "code",
        "colab": {
          "base_uri": "https://localhost:8080/",
          "height": 35
        },
        "outputId": "c8507fa4-5211-4db3-c087-af7188bf7dc6"
      },
      "source": [
        "with codecs.open(predict_output_json_file_name, mode='r', encoding='utf8') as fr:\n",
        "  all_count = 0\n",
        "  right_count = 0\n",
        "  for line in fr:\n",
        "    line = line.strip()\n",
        "    if len(line) == 0:\n",
        "      continue\n",
        "    row_data = json.loads(line)\n",
        "    all_count += 1\n",
        "    pred_label_json = row_data['pred_label']\n",
        "    label_list = sorted(pred_label_json.items(), key=lambda d: d[1], reverse=True)\n",
        "    if row_data['label'] == label_list[0][0]:\n",
        "      right_count += 1\n",
        "  print('acc:{}/{}={}'.format(right_count, all_count, round(right_count/all_count, 4)))"
      ],
      "execution_count": 15,
      "outputs": [
        {
          "output_type": "stream",
          "text": [
            "acc:401/500=0.802\n"
          ],
          "name": "stdout"
        }
      ]
    }
  ]
}